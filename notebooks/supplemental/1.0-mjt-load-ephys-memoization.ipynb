{
 "cells": [
  {
   "cell_type": "markdown",
   "metadata": {},
   "source": [
    "This notebook is to compare the timing of the loading and merging of spikes and stims. It demonstrates why any memoization isn't used for the loading of the data."
   ]
  },
  {
   "cell_type": "code",
   "execution_count": 1,
   "metadata": {
    "ExecuteTime": {
     "end_time": "2018-09-16T21:16:33.741845Z",
     "start_time": "2018-09-16T21:16:29.497387Z"
    }
   },
   "outputs": [
    {
     "name": "stderr",
     "output_type": "stream",
     "text": [
      "/usr/local/anaconda/envs/morphs/lib/python2.7/site-packages/sklearn/cross_validation.py:41: DeprecationWarning: This module was deprecated in version 0.18 in favor of the model_selection module into which all the refactored classes and functions are moved. Also note that the interface of the new CV iterators are different from that of this module. This module will be removed in 0.20.\n",
      "  \"This module will be removed in 0.20.\", DeprecationWarning)\n"
     ]
    }
   ],
   "source": [
    "import morphs\n",
    "from ephys import core, rigid_pandas"
   ]
  },
  {
   "cell_type": "code",
   "execution_count": 2,
   "metadata": {
    "ExecuteTime": {
     "end_time": "2018-09-16T21:16:33.751576Z",
     "start_time": "2018-09-16T21:16:33.746540Z"
    }
   },
   "outputs": [],
   "source": [
    "block_path = morphs.paths.BLOCKS[0]"
   ]
  },
  {
   "cell_type": "code",
   "execution_count": null,
   "metadata": {},
   "outputs": [],
   "source": [
    "# This is to clear the cache to make sure timing differences aren't due to OS cache paging\n",
    "# This doesn't work on my notebook because I don't have sudo privilege, instead just run it in terminal\n",
    "import os\n",
    "os.system('sudo /sbin/sysctl -w vm.drop_caches=3')"
   ]
  },
  {
   "cell_type": "code",
   "execution_count": 3,
   "metadata": {
    "ExecuteTime": {
     "end_time": "2018-09-16T21:28:12.866622Z",
     "start_time": "2018-09-16T21:16:43.065346Z"
    },
    "scrolled": true
   },
   "outputs": [
    {
     "name": "stdout",
     "output_type": "stream",
     "text": [
      "CPU times: user 11min 20s, sys: 5.24 s, total: 11min 25s\n",
      "Wall time: 11min 29s\n"
     ]
    }
   ],
   "source": [
    "%time spikes = morphs.data.load.ephys_data(block_path)"
   ]
  },
  {
   "cell_type": "code",
   "execution_count": 4,
   "metadata": {
    "ExecuteTime": {
     "end_time": "2018-09-16T21:28:12.892955Z",
     "start_time": "2018-09-16T21:28:12.871645Z"
    }
   },
   "outputs": [],
   "source": [
    "def spikes_stims(block_path):\n",
    "    spikes = core.load_spikes(block_path)\n",
    "\n",
    "    stims = rigid_pandas.load_acute_stims(block_path)\n",
    "\n",
    "    fs = core.load_fs(block_path)\n",
    "    stims['stim_duration'] = stims['stim_end'] - stims['stim_start']\n",
    "    rigid_pandas.timestamp2time(stims, fs, 'stim_duration')\n",
    "\n",
    "    for rec, rec_group in stims.groupby('recording'):\n",
    "        try:\n",
    "            rec_group['stim_name'].astype(float)\n",
    "            print('going to have to remove float stim recording ', rec)\n",
    "            spikes = spikes[spikes['recording'] != rec]\n",
    "            stims = stims[stims['recording'] != rec]\n",
    "        except ValueError:\n",
    "            if (rec_group['stim_duration'] > .41).any():\n",
    "                print('removing long stim recording ', rec)\n",
    "                spikes = spikes[spikes['recording'] != rec]\n",
    "                stims = stims[stims['recording'] != rec]\n",
    "\n",
    "    stim_ids = stims['stim_name']\n",
    "    stim_ids = stim_ids.str.replace(r'_rec', '')\n",
    "    stim_ids = stim_ids.str.replace(r'_rep\\d\\d', '')\n",
    "    stims['stim_id'] = stim_ids\n",
    "    morphs.data.parse.stim_id(stims)\n",
    "    return spikes, stims, fs"
   ]
  },
  {
   "cell_type": "code",
   "execution_count": null,
   "metadata": {},
   "outputs": [],
   "source": [
    "# This is to clear the cache to make sure timing differences aren't due to OS cache paging\n",
    "os.system('sudo /sbin/sysctl -w vm.drop_caches=3')"
   ]
  },
  {
   "cell_type": "code",
   "execution_count": 5,
   "metadata": {
    "ExecuteTime": {
     "end_time": "2018-09-16T21:28:18.188470Z",
     "start_time": "2018-09-16T21:28:12.897134Z"
    }
   },
   "outputs": [
    {
     "name": "stdout",
     "output_type": "stream",
     "text": [
      "CPU times: user 431 ms, sys: 358 ms, total: 789 ms\n",
      "Wall time: 5.06 s\n"
     ]
    }
   ],
   "source": [
    "%time spikes, stims, fs = spikes_stims(block_path)"
   ]
  },
  {
   "cell_type": "code",
   "execution_count": 6,
   "metadata": {
    "ExecuteTime": {
     "end_time": "2018-09-16T21:39:45.355917Z",
     "start_time": "2018-09-16T21:28:18.193479Z"
    }
   },
   "outputs": [
    {
     "name": "stdout",
     "output_type": "stream",
     "text": [
      "CPU times: user 11min 24s, sys: 3.5 s, total: 11min 27s\n",
      "Wall time: 11min 27s\n"
     ]
    }
   ],
   "source": [
    "%%time\n",
    "rigid_pandas.count_events(stims, index='stim_id')\n",
    "\n",
    "spikes = spikes.join(rigid_pandas.align_events(spikes, stims,\n",
    "                                               columns2copy=['stim_id', 'morph_dim', 'morph_pos',\n",
    "                                                             'stim_presentation', 'stim_start', 'stim_duration']))\n",
    "\n",
    "spikes['stim_aligned_time'] = (spikes['time_samples'].values.astype('int') -\n",
    "                               spikes['stim_start'].values)\n",
    "rigid_pandas.timestamp2time(spikes, fs, 'stim_aligned_time')"
   ]
  },
  {
   "cell_type": "markdown",
   "metadata": {},
   "source": [
    "Looks like all the time is spent in the the alignment. Its not worth memoizing the loading of spikes and stims, and the alignment has to be done after any shuffling I do."
   ]
  }
 ],
 "metadata": {
  "kernelspec": {
   "display_name": "Python (morphs)",
   "language": "python",
   "name": "morphs"
  },
  "language_info": {
   "codemirror_mode": {
    "name": "ipython",
    "version": 2
   },
   "file_extension": ".py",
   "mimetype": "text/x-python",
   "name": "python",
   "nbconvert_exporter": "python",
   "pygments_lexer": "ipython2",
   "version": "2.7.15"
  }
 },
 "nbformat": 4,
 "nbformat_minor": 2
}
