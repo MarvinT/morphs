{
 "cells": [
  {
   "cell_type": "code",
   "execution_count": 1,
   "metadata": {
    "ExecuteTime": {
     "end_time": "2019-04-22T03:02:45.735193Z",
     "start_time": "2019-04-22T03:02:44.694256Z"
    }
   },
   "outputs": [
    {
     "name": "stderr",
     "output_type": "stream",
     "text": [
      "/usr/local/anaconda/envs/morphs36/lib/python3.6/site-packages/matplotlib/__init__.py:886: MatplotlibDeprecationWarning: \n",
      "examples.directory is deprecated; in the future, examples will be found relative to the 'datapath' directory.\n",
      "  \"found relative to the 'datapath' directory.\".format(key))\n",
      "/usr/local/anaconda/envs/morphs36/lib/python3.6/site-packages/sklearn/cross_validation.py:41: DeprecationWarning: This module was deprecated in version 0.18 in favor of the model_selection module into which all the refactored classes and functions are moved. Also note that the interface of the new CV iterators are different from that of this module. This module will be removed in 0.20.\n",
      "  \"This module will be removed in 0.20.\", DeprecationWarning)\n"
     ]
    }
   ],
   "source": [
    "%matplotlib inline\n",
    "import matplotlib.pyplot as plt\n",
    "import seaborn as sns\n",
    "import numpy as np\n",
    "import morphs\n",
    "from morphs.data.derivative import f_map\n",
    "\n",
    "from sklearn.model_selection import LeaveOneGroupOut, cross_validate\n",
    "logo = LeaveOneGroupOut()\n",
    "from sklearn.linear_model import LogisticRegression\n",
    "lr = LogisticRegression()"
   ]
  },
  {
   "cell_type": "code",
   "execution_count": 2,
   "metadata": {
    "ExecuteTime": {
     "end_time": "2019-04-22T03:02:45.792557Z",
     "start_time": "2019-04-22T03:02:45.738259Z"
    }
   },
   "outputs": [],
   "source": [
    "ddf = morphs.load.derivative_df()"
   ]
  },
  {
   "cell_type": "code",
   "execution_count": 3,
   "metadata": {
    "ExecuteTime": {
     "end_time": "2019-04-22T03:03:28.136083Z",
     "start_time": "2019-04-22T03:02:45.794861Z"
    }
   },
   "outputs": [],
   "source": [
    "mean_scores = {}\n",
    "for order in range(7):\n",
    "    ys = ddf[order][ddf[order].str[0].notna()].map(f_map)\n",
    "    ys = np.array([y for y in ys.values])\n",
    "    labels = ddf[\"morph_dim\"][ddf[order].str[0].notna()].values\n",
    "    groups = ddf[\"block_path\"][ddf[order].str[0].notna()].values\n",
    "    scores = cross_validate(lr, ys, y=labels, cv=logo.split(ys, labels, groups), n_jobs=-1)\n",
    "    mean_scores[order] = scores['test_score'].mean()"
   ]
  },
  {
   "cell_type": "code",
   "execution_count": 4,
   "metadata": {
    "ExecuteTime": {
     "end_time": "2019-04-22T03:03:28.456087Z",
     "start_time": "2019-04-22T03:03:28.139428Z"
    }
   },
   "outputs": [
    {
     "data": {
      "image/png": "[encoded data removed]",
      "text/plain": [
       "<Figure size 432x288 with 1 Axes>"
      ]
     },
     "metadata": {
      "needs_background": "light"
     },
     "output_type": "display_data"
    }
   ],
   "source": [
    "ax = plt.gca()\n",
    "_ = ax.plot(range(7), [mean_scores[order] for order in range(7)], \"o\")\n",
    "_ = ax.axhline(1 / 24, linestyle=\":\", color=\"k\")\n",
    "_ = ax.set_ylabel(\"Accuracy\")\n",
    "_ = ax.set_xlabel(\"Polynomial Order\")"
   ]
  }
 ],
 "metadata": {
  "kernelspec": {
   "display_name": "Python3.6 (morphs)",
   "language": "python",
   "name": "py36"
  },
  "language_info": {
   "codemirror_mode": {
    "name": "ipython",
    "version": 3
   },
   "file_extension": ".py",
   "mimetype": "text/x-python",
   "name": "python",
   "nbconvert_exporter": "python",
   "pygments_lexer": "ipython3",
   "version": "3.6.7"
  }
 },
 "nbformat": 4,
 "nbformat_minor": 2
}
