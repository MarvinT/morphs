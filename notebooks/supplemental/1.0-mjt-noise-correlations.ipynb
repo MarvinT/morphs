{
 "cells": [
  {
   "cell_type": "code",
   "execution_count": 1,
   "metadata": {
    "ExecuteTime": {
     "end_time": "2019-02-05T21:23:15.566482Z",
     "start_time": "2019-02-05T21:23:14.669348Z"
    }
   },
   "outputs": [
    {
     "name": "stderr",
     "output_type": "stream",
     "text": [
      "/usr/local/anaconda/envs/morphs/lib/python2.7/site-packages/sklearn/cross_validation.py:41: DeprecationWarning: This module was deprecated in version 0.18 in favor of the model_selection module into which all the refactored classes and functions are moved. Also note that the interface of the new CV iterators are different from that of this module. This module will be removed in 0.20.\n",
      "  \"This module will be removed in 0.20.\", DeprecationWarning)\n"
     ]
    }
   ],
   "source": [
    "import morphs\n",
    "%matplotlib inline\n",
    "import matplotlib.pylab as plt\n",
    "import seaborn as sns"
   ]
  },
  {
   "cell_type": "code",
   "execution_count": 2,
   "metadata": {
    "ExecuteTime": {
     "end_time": "2019-02-05T21:23:15.578333Z",
     "start_time": "2019-02-05T21:23:15.572158Z"
    }
   },
   "outputs": [],
   "source": [
    "import numpy as np"
   ]
  },
  {
   "cell_type": "code",
   "execution_count": 3,
   "metadata": {
    "ExecuteTime": {
     "end_time": "2019-02-05T21:23:15.764570Z",
     "start_time": "2019-02-05T21:23:15.583282Z"
    }
   },
   "outputs": [],
   "source": [
    "import pandas as pd"
   ]
  },
  {
   "cell_type": "code",
   "execution_count": 4,
   "metadata": {
    "ExecuteTime": {
     "end_time": "2019-02-05T21:23:15.965878Z",
     "start_time": "2019-02-05T21:23:15.771363Z"
    }
   },
   "outputs": [],
   "source": [
    "import sklearn\n",
    "from sklearn.linear_model import LogisticRegression\n",
    "from sklearn.cross_validation import train_test_split\n",
    "from sklearn.metrics import roc_auc_score"
   ]
  },
  {
   "cell_type": "code",
   "execution_count": 5,
   "metadata": {
    "ExecuteTime": {
     "end_time": "2019-02-05T21:23:16.174151Z",
     "start_time": "2019-02-05T21:23:15.971416Z"
    }
   },
   "outputs": [],
   "source": [
    "from joblib import Parallel, delayed"
   ]
  },
  {
   "cell_type": "code",
   "execution_count": 6,
   "metadata": {
    "ExecuteTime": {
     "end_time": "2019-02-05T21:23:16.366940Z",
     "start_time": "2019-02-05T21:23:16.179947Z"
    }
   },
   "outputs": [],
   "source": [
    "def permute_units(rep, num_samples=50):\n",
    "    '''\n",
    "    destroys simultaneous information\n",
    "    permutes in-place (still returns value so you can permute_units(rep.copy()))\n",
    "    '''\n",
    "    assert rep.shape[1] % num_samples == 0\n",
    "    num_units = int(rep.shape[1] / num_samples)\n",
    "    #permute each unit separately\n",
    "    for unit in range(num_units):\n",
    "        rep[:, num_samples*unit:num_samples*(unit+1)] = np.random.permutation(rep[:, num_samples*unit:num_samples*(unit+1)])\n",
    "    return rep"
   ]
  },
  {
   "cell_type": "code",
   "execution_count": 7,
   "metadata": {
    "ExecuteTime": {
     "end_time": "2019-02-05T21:23:16.628329Z",
     "start_time": "2019-02-05T21:23:16.372939Z"
    }
   },
   "outputs": [],
   "source": [
    "def test_permute_units():\n",
    "    num_samples = 5\n",
    "    num_units = 10\n",
    "    repititions = 15\n",
    "    rep = np.arange(num_samples * num_units * repititions).reshape(repititions, num_samples * num_units)\n",
    "    shuffled_rep = permute_units(rep.copy(), num_samples=num_samples)\n",
    "    assert np.all(np.sort(shuffled_rep.reshape(-1)) == np.arange(num_samples * num_units * repititions)), 'missing elements'\n",
    "    assert np.all(np.sort(shuffled_rep, axis=0) == rep), 'wrong shape'\n",
    "    for unit in range(num_units):\n",
    "        assert np.all(np.sort(shuffled_rep[:, num_samples*unit:num_samples*(unit+1)], axis=0) == rep[:, num_samples*unit:num_samples*(unit+1)]), 'shuffled between units'\n",
    "        ind = np.argsort(shuffled_rep[:,num_samples*unit])\n",
    "        assert np.all(shuffled_rep[ind, num_samples*unit:num_samples*(unit+1)] == rep[:, num_samples*unit:num_samples*(unit+1)]), 'units time shuffled'\n",
    "test_permute_units()"
   ]
  },
  {
   "cell_type": "code",
   "execution_count": 8,
   "metadata": {
    "ExecuteTime": {
     "end_time": "2019-02-05T21:23:16.827001Z",
     "start_time": "2019-02-05T21:23:16.634373Z"
    }
   },
   "outputs": [],
   "source": [
    "def fit_shuffled_AUC_df(X, labels, morph_dims, num_shuffles):\n",
    "    samples = []\n",
    "    for morph_dim in morph_dims:\n",
    "        l, g = morph_dim\n",
    "        l_rep = X[labels==l, :]\n",
    "        g_rep = X[labels==g, :]\n",
    "        y = np.concatenate([np.zeros(l_rep.shape[0]), np.ones(g_rep.shape[0])])\n",
    "\n",
    "        idxs = np.arange(num_shuffles + 1)\n",
    "        shuffled = idxs != 0\n",
    "        aucs = np.zeros_like(idxs, dtype=float)\n",
    "\n",
    "        for i in idxs:\n",
    "            if shuffled[i]:\n",
    "                l_rep = permute_units(l_rep)\n",
    "                g_rep = permute_units(g_rep)\n",
    "            train_x, test_x, train_y, test_y = train_test_split(np.concatenate([l_rep, g_rep]),\n",
    "                                                                y, test_size=0.5, random_state=42)\n",
    "            model = LogisticRegression(penalty='l2').fit(train_x, train_y)\n",
    "            predicted_values = model.predict_proba(test_x)[:, 1]\n",
    "            aucs[i] = roc_auc_score(test_y, predicted_values)\n",
    "        samples.append(pd.DataFrame(data={'AUC':aucs, 'morph_dim':morph_dim, 'shuffled':shuffled, 'idx':idxs}))\n",
    "    return pd.concat(samples, ignore_index=True)"
   ]
  },
  {
   "cell_type": "code",
   "execution_count": 9,
   "metadata": {
    "ExecuteTime": {
     "end_time": "2019-02-05T21:23:17.017618Z",
     "start_time": "2019-02-05T21:23:16.832503Z"
    }
   },
   "outputs": [],
   "source": [
    "def gen_fit_shuffled_AUC_df(block_path, num_shuffles):\n",
    "    subj = morphs.data.parse.bird_id(block_path)\n",
    "    accuracies, cluster_accuracies = morphs.load.cluster_accuracies()\n",
    "    good_clusters = morphs.data.accuracies.good_clusters(cluster_accuracies[block_path])\n",
    "    \n",
    "    spikes = morphs.load.ephys_data(block_path, good_clusters=good_clusters, collapse_endpoints=True)\n",
    "    morph_dims = np.sort(spikes['morph_dim'].unique())[1:]\n",
    "    morphs.data.parse.stim_id(spikes)\n",
    "    X, labels = morphs.spikes.create_neural_rep(spikes[spikes['end']], max_id_len=1)\n",
    "    \n",
    "    samples_df = fit_shuffled_AUC_df(X, labels, morph_dims, num_shuffles)\n",
    "    samples_df['block_path'] = block_path\n",
    "    samples_df['subj'] = subj\n",
    "    samples_df['num_units'] = len(good_clusters)\n",
    "    return samples_df"
   ]
  },
  {
   "cell_type": "code",
   "execution_count": 10,
   "metadata": {
    "ExecuteTime": {
     "end_time": "2019-02-05T21:23:17.225576Z",
     "start_time": "2019-02-05T21:23:17.023144Z"
    }
   },
   "outputs": [],
   "source": [
    "def gen_all_fit_shuffled_AUC_df(num_shuffles, parallel=True, n_jobs=morphs.parallel.N_JOBS):\n",
    "    accuracies, cluster_accuracies = morphs.load.cluster_accuracies()\n",
    "    good_recs = morphs.data.accuracies.good_recs(cluster_accuracies)\n",
    "    if parallel:\n",
    "        all_samples = Parallel(n_jobs=n_jobs)(delayed(gen_fit_shuffled_AUC_df)(block_path, num_shuffles) for block_path in good_recs)\n",
    "    else:\n",
    "        all_samples = [gen_fit_shuffled_AUC_df(block_path, num_shuffles)\n",
    "                       for block_path in good_recs]\n",
    "    return pd.concat(all_samples, ignore_index=True)"
   ]
  },
  {
   "cell_type": "code",
   "execution_count": 11,
   "metadata": {
    "ExecuteTime": {
     "end_time": "2019-02-05T21:23:18.959172Z",
     "start_time": "2019-02-05T21:23:17.230993Z"
    }
   },
   "outputs": [],
   "source": [
    "accuracies, cluster_accuracies = morphs.load.cluster_accuracies()\n",
    "good_recs = morphs.data.accuracies.good_recs(cluster_accuracies)"
   ]
  },
  {
   "cell_type": "code",
   "execution_count": 12,
   "metadata": {
    "ExecuteTime": {
     "end_time": "2019-02-05T21:23:19.003197Z",
     "start_time": "2019-02-05T21:23:18.964271Z"
    }
   },
   "outputs": [],
   "source": [
    "block_path = np.random.choice(morphs.data.accuracies.good_recs(cluster_accuracies))\n",
    "subj = morphs.data.parse.bird_id(block_path)\n",
    "good_clusters = morphs.data.accuracies.good_clusters(cluster_accuracies[block_path])"
   ]
  },
  {
   "cell_type": "code",
   "execution_count": 13,
   "metadata": {
    "ExecuteTime": {
     "end_time": "2019-02-05T21:24:07.452797Z",
     "start_time": "2019-02-05T21:23:19.006688Z"
    }
   },
   "outputs": [],
   "source": [
    "num_shuffles = 4\n",
    "samples_df = gen_fit_shuffled_AUC_df(block_path, num_shuffles)"
   ]
  },
  {
   "cell_type": "code",
   "execution_count": 14,
   "metadata": {
    "ExecuteTime": {
     "end_time": "2019-02-05T21:24:07.684149Z",
     "start_time": "2019-02-05T21:24:07.457864Z"
    }
   },
   "outputs": [
    {
     "name": "stderr",
     "output_type": "stream",
     "text": [
      "/usr/local/anaconda/envs/morphs/lib/python2.7/site-packages/scipy/stats/stats.py:1713: FutureWarning: Using a non-tuple sequence for multidimensional indexing is deprecated; use `arr[tuple(seq)]` instead of `arr[seq]`. In the future this will be interpreted as an array index, `arr[np.array(seq)]`, which will result either in an error or a different result.\n",
      "  return np.add.reduce(sorted[indexer] * weights, axis=axis) / sumval\n"
     ]
    },
    {
     "data": {
      "image/png": "[encoded data removed]",
      "text/plain": [
       "<Figure size 432x288 with 1 Axes>"
      ]
     },
     "metadata": {
      "needs_background": "light"
     },
     "output_type": "display_data"
    }
   ],
   "source": [
    "ax = sns.barplot(x='shuffled', y='AUC', data=samples_df)"
   ]
  },
  {
   "cell_type": "code",
   "execution_count": 15,
   "metadata": {
    "ExecuteTime": {
     "end_time": "2019-02-05T21:24:07.924563Z",
     "start_time": "2019-02-05T21:24:07.688579Z"
    }
   },
   "outputs": [
    {
     "data": {
      "image/png": "[encoded data removed]",
      "text/plain": [
       "<Figure size 432x288 with 1 Axes>"
      ]
     },
     "metadata": {
      "needs_background": "light"
     },
     "output_type": "display_data"
    }
   ],
   "source": [
    "for shuffled, shuffled_group in samples_df.groupby('shuffled'):\n",
    "    plt.hist(shuffled_group['AUC'].values, alpha=.5, density=True)"
   ]
  },
  {
   "cell_type": "code",
   "execution_count": 16,
   "metadata": {
    "ExecuteTime": {
     "end_time": "2019-02-05T21:24:08.141629Z",
     "start_time": "2019-02-05T21:24:07.927862Z"
    }
   },
   "outputs": [
    {
     "data": {
      "image/png": "[encoded data removed]",
      "text/plain": [
       "<Figure size 432x288 with 1 Axes>"
      ]
     },
     "metadata": {
      "needs_background": "light"
     },
     "output_type": "display_data"
    }
   ],
   "source": [
    "fig = plt.figure()\n",
    "ax = plt.gca()\n",
    "for shuffled, shuffled_group in samples_df.groupby('shuffled'):\n",
    "    morphs.plot.cumulative_distribution(shuffled_group['AUC'].values, scaled=True, label='shuffled' if shuffled else 'unshuffled')\n",
    "ax.set_ylim(0, 1)\n",
    "ax.set_xlim(.5, 1)\n",
    "ax.set_ylabel('Cumulative Distribution')\n",
    "ax.set_xlabel('AUC')\n",
    "ax.legend(loc='lower right');"
   ]
  },
  {
   "cell_type": "code",
   "execution_count": 17,
   "metadata": {
    "ExecuteTime": {
     "end_time": "2019-02-05T21:37:55.114130Z",
     "start_time": "2019-02-05T21:24:08.145215Z"
    }
   },
   "outputs": [],
   "source": [
    "all_samples_df = gen_all_fit_shuffled_AUC_df(num_shuffles)"
   ]
  },
  {
   "cell_type": "code",
   "execution_count": 18,
   "metadata": {
    "ExecuteTime": {
     "end_time": "2019-02-05T21:37:55.398111Z",
     "start_time": "2019-02-05T21:37:55.119795Z"
    }
   },
   "outputs": [
    {
     "data": {
      "image/png": "[encoded data removed]",
      "text/plain": [
       "<Figure size 432x288 with 1 Axes>"
      ]
     },
     "metadata": {
      "needs_background": "light"
     },
     "output_type": "display_data"
    }
   ],
   "source": [
    "for shuffled, shuffled_group in all_samples_df.groupby('shuffled'):\n",
    "    plt.hist(shuffled_group['AUC'].values, alpha=.5, density=True)"
   ]
  },
  {
   "cell_type": "code",
   "execution_count": 19,
   "metadata": {
    "ExecuteTime": {
     "end_time": "2019-02-05T21:37:55.616561Z",
     "start_time": "2019-02-05T21:37:55.402468Z"
    }
   },
   "outputs": [
    {
     "data": {
      "image/png": "[encoded data removed]",
      "text/plain": [
       "<Figure size 432x288 with 1 Axes>"
      ]
     },
     "metadata": {
      "needs_background": "light"
     },
     "output_type": "display_data"
    }
   ],
   "source": [
    "fig = plt.figure()\n",
    "ax = plt.gca()\n",
    "for shuffled, shuffled_group in all_samples_df.groupby('shuffled'):\n",
    "    morphs.plot.cumulative_distribution(shuffled_group['AUC'].values, scaled=True, label='shuffled' if shuffled else 'unshuffled')\n",
    "ax.set_ylim(0, 1)\n",
    "ax.set_xlim(.5, 1)\n",
    "ax.set_ylabel('Cumulative Distribution')\n",
    "ax.set_xlabel('AUC')\n",
    "ax.legend(loc='lower right');"
   ]
  },
  {
   "cell_type": "code",
   "execution_count": 20,
   "metadata": {
    "ExecuteTime": {
     "end_time": "2019-02-05T21:37:55.630474Z",
     "start_time": "2019-02-05T21:37:55.619711Z"
    }
   },
   "outputs": [],
   "source": [
    "all_samples_df.loc[all_samples_df['subj'] == 'st1107', 'subj'] = 'B1107'"
   ]
  },
  {
   "cell_type": "code",
   "execution_count": 21,
   "metadata": {
    "ExecuteTime": {
     "end_time": "2019-02-05T21:37:55.820428Z",
     "start_time": "2019-02-05T21:37:55.634715Z"
    }
   },
   "outputs": [],
   "source": [
    "all_samples_df['behave_subj'] = [subj in morphs.subj.BEHAVE_SUBJS for subj in all_samples_df['subj']]"
   ]
  },
  {
   "cell_type": "code",
   "execution_count": 22,
   "metadata": {
    "ExecuteTime": {
     "end_time": "2019-02-05T21:37:56.081672Z",
     "start_time": "2019-02-05T21:37:55.825803Z"
    }
   },
   "outputs": [
    {
     "data": {
      "text/plain": [
       "{'B1082': {'ae': array([3.45413076e-02, 9.61020140e-01, 1.26630095e-01, 4.88125767e+01]),\n",
       "  'af': array([ 0.05601262,  0.94862689,  0.13856467, 51.60830661]),\n",
       "  'ag': array([ 0.04943956,  0.94570797,  0.1699687 , 40.41101718]),\n",
       "  'ah': array([6.51486070e-02, 9.59232529e-01, 1.48832788e-01, 6.88214363e+01]),\n",
       "  'be': array([4.74273792e-02, 9.66950751e-01, 1.86421284e-01, 6.31172051e+01]),\n",
       "  'bf': array([4.63522879e-02, 9.54589960e-01, 2.44995491e-01, 6.88413935e+01]),\n",
       "  'bg': array([4.68393213e-02, 9.50146781e-01, 2.91401812e-01, 5.31775090e+01]),\n",
       "  'bh': array([5.15553773e-02, 9.36509462e-01, 2.06887983e-01, 7.52997723e+01]),\n",
       "  'ce': array([6.50063659e-02, 9.65465617e-01, 1.91000517e-01, 6.62982912e+01]),\n",
       "  'cf': array([ 0.05954785,  0.94954191,  0.20562972, 45.00137051]),\n",
       "  'cg': array([ 0.06412609,  0.94917161,  0.21870895, 55.13779286]),\n",
       "  'ch': array([ 0.07084469,  0.95578936,  0.31225774, 39.7764666 ]),\n",
       "  'de': array([ 0.05648395,  0.96223462,  0.27168341, 50.34762748]),\n",
       "  'df': array([4.70735037e-02, 9.49572630e-01, 1.93305922e-01, 5.49389029e+01]),\n",
       "  'dg': array([ 0.05860203,  0.9515045 ,  0.19415088, 56.86673952]),\n",
       "  'dh': array([5.02570280e-02, 9.48054133e-01, 1.66370927e-01, 6.40286891e+01])},\n",
       " 'B1088': {'ac': array([1.48451288e-02, 9.84144846e-01, 2.08807105e-01, 6.37728319e+01]),\n",
       "  'ad': array([1.90677213e-02, 9.79095666e-01, 1.34649275e-01, 7.22827037e+01]),\n",
       "  'ae': array([2.70272504e-02, 9.92688961e-01, 3.24845668e-01, 8.14938799e+01]),\n",
       "  'af': array([1.96502235e-02, 9.67634393e-01, 1.87997273e-01, 7.63272381e+01]),\n",
       "  'bc': array([7.51159325e-03, 9.84543104e-01, 2.25055974e-01, 7.00356954e+01]),\n",
       "  'bd': array([1.09867417e-02, 9.87695551e-01, 1.10202808e-01, 7.75713564e+01]),\n",
       "  'be': array([2.19391408e-02, 9.90882042e-01, 6.04937709e-01, 7.83520763e+01]),\n",
       "  'bf': array([1.07017560e-02, 9.88051942e-01, 1.56700058e-01, 8.22872786e+01]),\n",
       "  'cg': array([1.66612668e-02, 9.50047609e-01, 2.59360189e-01, 5.96274717e+01]),\n",
       "  'ch': array([1.15572610e-02, 9.51531569e-01, 1.62545724e-01, 5.80552017e+01]),\n",
       "  'dg': array([2.52867963e-02, 9.54340297e-01, 3.95789927e-01, 4.52303857e+01]),\n",
       "  'dh': array([1.72996096e-02, 9.73667342e-01, 2.01218096e-01, 5.84014180e+01]),\n",
       "  'eg': array([5.79606034e-03, 9.04333586e-01, 3.65296674e-01, 4.25579131e+01]),\n",
       "  'eh': array([7.63379424e-03, 9.56963619e-01, 2.72397326e-01, 6.37830492e+01]),\n",
       "  'fg': array([6.37449300e-03, 9.38930223e-01, 1.93675026e-01, 2.11501065e+01]),\n",
       "  'fh': array([1.39761702e-02, 9.31061457e-01, 2.40303642e-01, 3.93794622e+01])},\n",
       " 'B1101': {'ac': array([3.93264053e-02, 9.85736505e-01, 2.00011227e-01, 6.55070337e+01]),\n",
       "  'ad': array([3.60720373e-02, 9.82748095e-01, 1.43618580e-01, 6.42826965e+01]),\n",
       "  'ag': array([3.03214125e-02, 9.82082611e-01, 3.81598444e-01, 6.53105816e+01]),\n",
       "  'ah': array([3.47863728e-02, 9.86656716e-01, 1.53824871e-01, 6.94610609e+01]),\n",
       "  'bc': array([2.68663004e-02, 9.87900108e-01, 2.13278376e-01, 6.86164812e+01]),\n",
       "  'bd': array([2.77873119e-02, 9.76509363e-01, 1.38243420e-01, 6.99579079e+01]),\n",
       "  'bg': array([2.56237084e-02, 9.85102291e-01, 2.03172419e-01, 6.43810833e+01]),\n",
       "  'bh': array([1.73763256e-02, 9.81472704e-01, 1.39075993e-01, 5.77462299e+01]),\n",
       "  'ce': array([1.74702185e-02, 9.73698525e-01, 2.49547311e-01, 6.95785357e+01]),\n",
       "  'cf': array([1.65932162e-02, 9.18035574e-01, 2.81549031e-01, 5.16897121e+01]),\n",
       "  'de': array([1.96401389e-02, 9.73278495e-01, 2.81800946e-01, 6.70777021e+01]),\n",
       "  'df': array([1.82247638e-02, 9.51094447e-01, 2.02028101e-01, 4.86834332e+01]),\n",
       "  'eg': array([5.56562484e-02, 9.84293066e-01, 6.46013187e-01, 1.02664270e+02]),\n",
       "  'eh': array([2.64705041e-02, 9.87001414e-01, 1.51190235e-01, 7.39844640e+01]),\n",
       "  'fg': array([4.77058213e-02, 9.76152012e-01, 2.75544979e-01, 7.64204560e+01]),\n",
       "  'fh': array([5.28823082e-02, 9.80467421e-01, 1.58746751e-01, 7.42509776e+01])},\n",
       " 'B1105': {'ac': array([ 0.07415623,  0.93121036,  0.35760948, 70.77368465]),\n",
       "  'ad': array([ 0.06990123,  0.93487706,  0.29168847, 64.83904973]),\n",
       "  'ae': array([7.95041617e-02, 9.37734501e-01, 4.25708259e-01, 8.32598415e+01]),\n",
       "  'af': array([7.24683377e-02, 9.30338540e-01, 2.34075475e-01, 7.53844917e+01]),\n",
       "  'bc': array([6.13499148e-02, 9.27849288e-01, 3.57750341e-01, 6.77595072e+01]),\n",
       "  'bd': array([6.68802805e-02, 9.32412481e-01, 1.86544549e-01, 7.10664468e+01]),\n",
       "  'be': array([6.39461396e-02, 9.32950385e-01, 6.60317048e-01, 7.60483669e+01]),\n",
       "  'bf': array([6.19884128e-02, 9.16956900e-01, 3.59407500e-01, 7.59681982e+01]),\n",
       "  'cg': array([ 0.06505275,  0.92231428,  0.27908019, 63.5552134 ]),\n",
       "  'ch': array([ 0.06405375,  0.9335841 ,  0.17775496, 60.67540005]),\n",
       "  'dg': array([ 0.06604032,  0.91530493,  0.30470324, 56.82299913]),\n",
       "  'dh': array([ 0.06182003,  0.93291026,  0.30769579, 58.16771152]),\n",
       "  'eg': array([ 0.05654951,  0.90844996,  0.21369541, 45.80995497]),\n",
       "  'eh': array([6.62890475e-02, 9.31392654e-01, 2.58127503e-01, 6.72850994e+01]),\n",
       "  'fg': array([ 0.08452439,  0.91674994,  0.23634032, 33.96161448]),\n",
       "  'fh': array([ 0.08058586,  0.9321605 ,  0.19568628, 60.94457174])},\n",
       " 'B1107': {'ae': array([ 0.06328579,  0.96197263,  0.16670845, 49.40820897]),\n",
       "  'af': array([ 0.08894457,  0.96459754,  0.14547658, 72.43896941]),\n",
       "  'ag': array([ 0.09383361,  0.93867476,  0.21605003, 64.41131966]),\n",
       "  'ah': array([ 0.08783327,  0.9449409 ,  0.16436274, 75.61726911]),\n",
       "  'be': array([ 0.07760379,  0.98078097,  0.14621021, 66.35294783]),\n",
       "  'bf': array([7.29557389e-02, 9.71637189e-01, 3.09711314e-01, 7.29935795e+01]),\n",
       "  'bg': array([ 0.07999258,  0.95329193,  0.25447676, 58.00167429]),\n",
       "  'bh': array([ 0.07979525,  0.93109334,  0.13322701, 76.86003476]),\n",
       "  'ce': array([ 0.09003521,  0.96773372,  0.1871908 , 71.87563729]),\n",
       "  'cf': array([ 0.0747915 ,  0.94881852,  0.20677786, 46.04535583]),\n",
       "  'cg': array([ 0.09355993,  0.94299661,  0.24793463, 56.73311345]),\n",
       "  'ch': array([ 0.07437721,  0.94663965,  0.2706162 , 44.13857289]),\n",
       "  'de': array([ 0.07692196,  0.97789828,  0.21007511, 56.70893663]),\n",
       "  'df': array([ 0.07796068,  0.96931212,  0.20783873, 71.34014148]),\n",
       "  'dg': array([ 0.08001777,  0.9312611 ,  0.25421866, 67.68288999]),\n",
       "  'dh': array([ 0.08483583,  0.94868304,  0.1335244 , 76.69711346])},\n",
       " 'B1218': {'ae': array([1.56669303e-02, 9.67891280e-01, 1.28376687e-01, 5.94835612e+01]),\n",
       "  'af': array([2.95203477e-02, 9.44627922e-01, 1.82138715e-01, 6.54759789e+01]),\n",
       "  'ag': array([2.97863963e-02, 9.45613187e-01, 2.31847083e-01, 5.86858856e+01]),\n",
       "  'ah': array([2.30714737e-02, 9.49999981e-01, 1.35167173e-01, 6.41676349e+01]),\n",
       "  'be': array([2.17505377e-02, 9.74248597e-01, 3.47109843e-01, 7.48434441e+01]),\n",
       "  'bf': array([1.36578688e-02, 9.42225513e-01, 3.71371019e-01, 7.72295801e+01]),\n",
       "  'bg': array([1.73536340e-02, 9.41450405e-01, 4.44965166e-01, 6.48956368e+01]),\n",
       "  'bh': array([1.29072779e-02, 9.38966827e-01, 1.66291468e-01, 7.85243079e+01]),\n",
       "  'ce': array([3.29418837e-02, 9.60544478e-01, 2.90527732e-01, 7.16884828e+01]),\n",
       "  'cf': array([2.19250794e-02, 9.39927818e-01, 1.88819822e-01, 5.43717459e+01]),\n",
       "  'cg': array([3.08495016e-02, 9.36140435e-01, 2.49360398e-01, 6.22886074e+01]),\n",
       "  'ch': array([2.70772594e-02, 9.31434943e-01, 2.25402438e-01, 4.90221315e+01]),\n",
       "  'de': array([2.23515778e-02, 9.65861312e-01, 3.04848238e-01, 6.08370307e+01]),\n",
       "  'df': array([1.67156068e-02, 9.52170033e-01, 1.70387393e-01, 6.66870575e+01]),\n",
       "  'dg': array([3.37315345e-02, 9.40944041e-01, 3.14379910e-01, 7.00280965e+01]),\n",
       "  'dh': array([1.60149725e-02, 9.53077188e-01, 1.31750972e-01, 7.61036170e+01])},\n",
       " 'B1222': {'ac': array([4.53654557e-02, 9.49462458e-01, 1.98838851e-01, 7.16473787e+01]),\n",
       "  'ad': array([4.18880862e-02, 9.29554440e-01, 2.61338999e-01, 7.91492291e+01]),\n",
       "  'ag': array([3.64094882e-02, 9.31701889e-01, 2.77552239e-01, 6.08575670e+01]),\n",
       "  'ah': array([4.26948776e-02, 9.35173354e-01, 3.02838537e-01, 7.94690338e+01]),\n",
       "  'bc': array([3.02064273e-02, 9.46772292e-01, 1.84491652e-01, 6.97258367e+01]),\n",
       "  'bd': array([5.23792291e-02, 9.35910576e-01, 1.57537614e-01, 8.51057283e+01]),\n",
       "  'bg': array([3.04177616e-02, 9.26182033e-01, 2.77632247e-01, 5.97231519e+01]),\n",
       "  'bh': array([4.02708081e-02, 9.25755610e-01, 1.55454265e-01, 7.59674777e+01]),\n",
       "  'ce': array([ 0.06200617,  0.97420427,  0.231154  , 59.68141467]),\n",
       "  'cf': array([ 0.05459151,  0.87304544,  0.25586732, 50.9502701 ]),\n",
       "  'de': array([ 0.07155455,  0.97683853,  0.23755702, 43.92347018]),\n",
       "  'df': array([ 0.07199034,  0.93513534,  0.15720198, 59.40051209]),\n",
       "  'eg': array([3.71136401e-02, 9.66907251e-01, 1.16658895e-01, 9.28692022e+01]),\n",
       "  'eh': array([2.83072579e-02, 9.32733283e-01, 2.02346360e-01, 7.95583032e+01]),\n",
       "  'fg': array([ 0.08661837,  0.91366431,  1.15189088, 78.84210968]),\n",
       "  'fh': array([6.63035099e-02, 9.16032268e-01, 2.31404284e-01, 6.72852802e+01])},\n",
       " 'B979': {'ae': array([2.84124699e-02, 9.88810647e-01, 1.40917686e-01, 4.51109244e+01]),\n",
       "  'af': array([4.81239758e-02, 9.60810194e-01, 1.11657095e-01, 5.27697467e+01]),\n",
       "  'ag': array([2.67376540e-02, 9.50045976e-01, 1.17349233e-01, 4.46222495e+01]),\n",
       "  'ah': array([5.31338059e-02, 9.45838496e-01, 1.36924173e-01, 7.52851293e+01]),\n",
       "  'be': array([1.17106828e-02, 9.87107459e-01, 2.04928612e-01, 6.35420600e+01]),\n",
       "  'bf': array([1.94096866e-02, 9.62819069e-01, 3.82451029e-01, 7.51624696e+01]),\n",
       "  'bg': array([1.96196269e-02, 9.54731761e-01, 2.91799861e-01, 5.73489119e+01]),\n",
       "  'bh': array([1.53494417e-02, 9.41555719e-01, 1.32407708e-01, 9.39497863e+01]),\n",
       "  'ce': array([ 0.08253709,  0.98586306,  0.12834805, 60.2300462 ]),\n",
       "  'cf': array([ 0.06724185,  0.95124098,  0.21570425, 38.60522772]),\n",
       "  'cg': array([ 0.09265589,  0.95247721,  0.19119205, 48.79876123]),\n",
       "  'ch': array([ 0.06655099,  0.96274872,  0.2503449 , 37.33670071]),\n",
       "  'de': array([3.38341203e-02, 9.84231198e-01, 1.88547373e-01, 5.62134401e+01]),\n",
       "  'df': array([2.33728829e-02, 9.74282923e-01, 1.63200844e-01, 6.37280730e+01]),\n",
       "  'dg': array([3.42432596e-02, 9.57476440e-01, 1.58988368e-01, 5.59999693e+01]),\n",
       "  'dh': array([3.44735261e-02, 9.48764026e-01, 1.20913347e-01, 7.88887424e+01])}}"
      ]
     },
     "execution_count": 22,
     "metadata": {},
     "output_type": "execute_result"
    }
   ],
   "source": [
    "psychometric_params = morphs.load.psychometric_params()\n",
    "psychometric_params"
   ]
  },
  {
   "cell_type": "code",
   "execution_count": 23,
   "metadata": {
    "ExecuteTime": {
     "end_time": "2019-02-05T21:37:56.321451Z",
     "start_time": "2019-02-05T21:37:56.086417Z"
    }
   },
   "outputs": [],
   "source": [
    "all_samples_df['behave_dim'] = False\n",
    "for subj, subj_group in all_samples_df.groupby('subj'):\n",
    "    if subj in morphs.subj.BEHAVE_SUBJS:\n",
    "        for morph_dim, dim_group in subj_group.groupby('morph_dim'):\n",
    "            if morph_dim in psychometric_params[subj]:\n",
    "                all_samples_df.loc[dim_group.index, 'behave_dim'] = True"
   ]
  },
  {
   "cell_type": "code",
   "execution_count": 24,
   "metadata": {
    "ExecuteTime": {
     "end_time": "2019-02-05T21:37:56.440197Z",
     "start_time": "2019-02-05T21:37:56.326822Z"
    }
   },
   "outputs": [],
   "source": [
    "all_samples_df['legend'] = 'error'\n",
    "all_samples_df.loc[~all_samples_df['behave_subj'], 'legend'] = 'Naive'\n",
    "all_samples_df.loc[all_samples_df['behave_subj'] & all_samples_df['behave_dim'], 'legend'] = 'Relevant Dimensions'\n",
    "all_samples_df.loc[all_samples_df['behave_subj'] & ~all_samples_df['behave_dim'], 'legend'] = 'Irrelevant Dimensions'"
   ]
  },
  {
   "cell_type": "code",
   "execution_count": 25,
   "metadata": {
    "ExecuteTime": {
     "end_time": "2019-02-05T21:37:57.129088Z",
     "start_time": "2019-02-05T21:37:56.445089Z"
    }
   },
   "outputs": [
    {
     "data": {
      "image/png": "[encoded data removed]",
      "text/plain": [
       "<Figure size 432x288 with 1 Axes>"
      ]
     },
     "metadata": {
      "needs_background": "light"
     },
     "output_type": "display_data"
    }
   ],
   "source": [
    "ax = sns.barplot(x='legend', y='AUC', hue='shuffled', data=all_samples_df)"
   ]
  },
  {
   "cell_type": "code",
   "execution_count": 26,
   "metadata": {
    "ExecuteTime": {
     "end_time": "2019-02-05T21:37:57.803965Z",
     "start_time": "2019-02-05T21:37:57.133386Z"
    }
   },
   "outputs": [
    {
     "data": {
      "image/png": "[encoded data removed]",
      "text/plain": [
       "<Figure size 710.125x216 with 3 Axes>"
      ]
     },
     "metadata": {
      "needs_background": "light"
     },
     "output_type": "display_data"
    }
   ],
   "source": [
    "g = sns.FacetGrid(all_samples_df, col='legend', hue='shuffled')\n",
    "g = g.map(morphs.plot.cumulative_distribution, 'AUC', scaled=True, label='shuffled' if shuffled else 'unshuffled')\n",
    "g = g.set_titles('{col_name}')\n",
    "g = g.add_legend()"
   ]
  },
  {
   "cell_type": "code",
   "execution_count": 27,
   "metadata": {
    "ExecuteTime": {
     "end_time": "2019-02-05T21:37:57.813307Z",
     "start_time": "2019-02-05T21:37:57.808291Z"
    }
   },
   "outputs": [],
   "source": [
    "import scipy as sp"
   ]
  },
  {
   "cell_type": "code",
   "execution_count": 28,
   "metadata": {
    "ExecuteTime": {
     "end_time": "2019-02-05T21:37:58.105445Z",
     "start_time": "2019-02-05T21:37:57.817341Z"
    }
   },
   "outputs": [
    {
     "name": "stdout",
     "output_type": "stream",
     "text": [
      "Irrelevant Dimensions\n",
      "(0.11019736842105232, 0.10432082453930556)\n",
      "Naive\n",
      "(0.07343750000000063, 0.03178592065807014)\n",
      "Relevant Dimensions\n",
      "(0.1085526315789485, 0.006483908409130259)\n"
     ]
    }
   ],
   "source": [
    "for legend, legend_group in all_samples_df.groupby('legend'):\n",
    "    print(legend)\n",
    "    lggb = legend_group.groupby('shuffled')\n",
    "    print(sp.stats.mstats.ks_twosamp(lggb.get_group(True)['AUC'], lggb.get_group(False)['AUC']))"
   ]
  },
  {
   "cell_type": "code",
   "execution_count": 29,
   "metadata": {
    "ExecuteTime": {
     "end_time": "2019-02-05T21:37:58.741435Z",
     "start_time": "2019-02-05T21:37:58.110703Z"
    }
   },
   "outputs": [
    {
     "data": {
      "image/png": "[encoded data removed]",
      "text/plain": [
       "<Figure size 494.125x216 with 2 Axes>"
      ]
     },
     "metadata": {
      "needs_background": "light"
     },
     "output_type": "display_data"
    }
   ],
   "source": [
    "g = sns.FacetGrid(all_samples_df, col='behave_subj', hue='shuffled')\n",
    "g = g.map(morphs.plot.cumulative_distribution, 'AUC', scaled=True, label='shuffled' if shuffled else 'unshuffled')\n",
    "# g = g.set_titles('{col_name}')\n",
    "g = g.add_legend()"
   ]
  },
  {
   "cell_type": "code",
   "execution_count": 30,
   "metadata": {
    "ExecuteTime": {
     "end_time": "2019-02-05T21:37:58.763009Z",
     "start_time": "2019-02-05T21:37:58.745785Z"
    }
   },
   "outputs": [
    {
     "name": "stdout",
     "output_type": "stream",
     "text": [
      "False\n",
      "(0.07343750000000063, 0.03178592065807014)\n",
      "True\n",
      "(0.10910087719298156, 0.0003383997584589806)\n"
     ]
    }
   ],
   "source": [
    "for behave, behave_group in all_samples_df.groupby('behave_subj'):\n",
    "    print(behave)\n",
    "    bggb = behave_group.groupby('shuffled')\n",
    "    print(sp.stats.mstats.ks_twosamp(bggb.get_group(True)['AUC'], bggb.get_group(False)['AUC']))"
   ]
  }
 ],
 "metadata": {
  "kernelspec": {
   "display_name": "Python (morphs)",
   "language": "python",
   "name": "morphs"
  },
  "language_info": {
   "codemirror_mode": {
    "name": "ipython",
    "version": 2
   },
   "file_extension": ".py",
   "mimetype": "text/x-python",
   "name": "python",
   "nbconvert_exporter": "python",
   "pygments_lexer": "ipython2",
   "version": "2.7.15"
  }
 },
 "nbformat": 4,
 "nbformat_minor": 2
}
