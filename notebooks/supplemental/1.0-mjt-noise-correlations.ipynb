{
 "cells": [
  {
   "cell_type": "code",
   "execution_count": 1,
   "metadata": {
    "ExecuteTime": {
     "end_time": "2019-02-07T22:11:50.303151Z",
     "start_time": "2019-02-07T22:11:48.151344Z"
    }
   },
   "outputs": [
    {
     "name": "stderr",
     "output_type": "stream",
     "text": [
      "/usr/local/anaconda/envs/morphs/lib/python2.7/site-packages/sklearn/cross_validation.py:41: DeprecationWarning: This module was deprecated in version 0.18 in favor of the model_selection module into which all the refactored classes and functions are moved. Also note that the interface of the new CV iterators are different from that of this module. This module will be removed in 0.20.\n",
      "  \"This module will be removed in 0.20.\", DeprecationWarning)\n"
     ]
    }
   ],
   "source": [
    "import morphs\n",
    "%matplotlib inline\n",
    "import matplotlib.pylab as plt\n",
    "import seaborn as sns\n",
    "import numpy as np\n",
    "import scipy as sp\n",
    "import pandas as pd\n",
    "\n",
    "import sklearn\n",
    "from sklearn.linear_model import LogisticRegression\n",
    "from sklearn.cross_validation import train_test_split\n",
    "from sklearn.metrics import roc_auc_score\n",
    "\n",
    "from joblib import Parallel, delayed"
   ]
  },
  {
   "cell_type": "code",
   "execution_count": 2,
   "metadata": {
    "ExecuteTime": {
     "end_time": "2019-02-07T22:11:50.317248Z",
     "start_time": "2019-02-07T22:11:50.306640Z"
    }
   },
   "outputs": [],
   "source": [
    "def permute_units(rep, num_samples=50):\n",
    "    '''\n",
    "    destroys simultaneous information\n",
    "    permutes in-place (still returns value so you can permute_units(rep.copy()))\n",
    "    '''\n",
    "    assert rep.shape[1] % num_samples == 0\n",
    "    num_units = int(rep.shape[1] / num_samples)\n",
    "    #permute each unit separately\n",
    "    for unit in range(num_units):\n",
    "        rep[:, num_samples*unit:num_samples*(unit+1)] = np.random.permutation(rep[:, num_samples*unit:num_samples*(unit+1)])\n",
    "    return rep"
   ]
  },
  {
   "cell_type": "code",
   "execution_count": 3,
   "metadata": {
    "ExecuteTime": {
     "end_time": "2019-02-07T22:11:50.520629Z",
     "start_time": "2019-02-07T22:11:50.322686Z"
    }
   },
   "outputs": [],
   "source": [
    "def test_permute_units():\n",
    "    num_samples = 5\n",
    "    num_units = 10\n",
    "    repititions = 15\n",
    "    rep = np.arange(num_samples * num_units * repititions).reshape(repititions, num_samples * num_units)\n",
    "    shuffled_rep = permute_units(rep.copy(), num_samples=num_samples)\n",
    "    assert np.all(np.sort(shuffled_rep.reshape(-1)) == np.arange(num_samples * num_units * repititions)), 'missing elements'\n",
    "    assert np.all(np.sort(shuffled_rep, axis=0) == rep), 'wrong shape'\n",
    "    for unit in range(num_units):\n",
    "        assert np.all(np.sort(shuffled_rep[:, num_samples*unit:num_samples*(unit+1)], axis=0) == rep[:, num_samples*unit:num_samples*(unit+1)]), 'shuffled between units'\n",
    "        ind = np.argsort(shuffled_rep[:,num_samples*unit])\n",
    "        assert np.all(shuffled_rep[ind, num_samples*unit:num_samples*(unit+1)] == rep[:, num_samples*unit:num_samples*(unit+1)]), 'units time shuffled'\n",
    "test_permute_units()"
   ]
  },
  {
   "cell_type": "code",
   "execution_count": 4,
   "metadata": {
    "ExecuteTime": {
     "end_time": "2019-02-07T22:11:50.760546Z",
     "start_time": "2019-02-07T22:11:50.525194Z"
    }
   },
   "outputs": [],
   "source": [
    "def fit_shuffled_AUC_df(X, labels, morph_dims, num_shuffles):\n",
    "    samples = []\n",
    "    for morph_dim in morph_dims:\n",
    "        l, g = morph_dim\n",
    "        l_rep = X[labels==l, :]\n",
    "        g_rep = X[labels==g, :]\n",
    "        y = np.concatenate([np.zeros(l_rep.shape[0]), np.ones(g_rep.shape[0])])\n",
    "\n",
    "        idxs = np.arange(num_shuffles + 1)\n",
    "        shuffled = idxs != 0\n",
    "        aucs = np.zeros_like(idxs, dtype=float)\n",
    "\n",
    "        for i in idxs:\n",
    "            if shuffled[i]:\n",
    "                l_rep = permute_units(l_rep)\n",
    "                g_rep = permute_units(g_rep)\n",
    "            train_x, test_x, train_y, test_y = train_test_split(np.concatenate([l_rep, g_rep]),\n",
    "                                                                y, test_size=0.5, random_state=42)\n",
    "            model = LogisticRegression(penalty='l2').fit(train_x, train_y)\n",
    "            predicted_values = model.predict_proba(test_x)[:, 1]\n",
    "            aucs[i] = roc_auc_score(test_y, predicted_values)\n",
    "        samples.append(pd.DataFrame(data={'AUC':aucs, 'morph_dim':morph_dim, 'shuffled':shuffled, 'idx':idxs}))\n",
    "    return pd.concat(samples, ignore_index=True)"
   ]
  },
  {
   "cell_type": "code",
   "execution_count": 5,
   "metadata": {
    "ExecuteTime": {
     "end_time": "2019-02-07T22:11:50.989459Z",
     "start_time": "2019-02-07T22:11:50.766239Z"
    }
   },
   "outputs": [],
   "source": [
    "def gen_fit_shuffled_AUC_df(block_path, num_shuffles):\n",
    "    subj = morphs.data.parse.bird_id(block_path)\n",
    "    accuracies, cluster_accuracies = morphs.load.cluster_accuracies()\n",
    "    good_clusters = morphs.data.accuracies.good_clusters(cluster_accuracies[block_path])\n",
    "    \n",
    "    spikes = morphs.load.ephys_data(block_path, good_clusters=good_clusters, collapse_endpoints=True)\n",
    "    morph_dims = np.sort(spikes['morph_dim'].dropna().unique())\n",
    "    morphs.data.parse.stim_id(spikes)\n",
    "    X, labels = morphs.spikes.create_neural_rep(spikes[spikes['end']], max_id_len=1)\n",
    "    \n",
    "    samples_df = fit_shuffled_AUC_df(X, labels, morph_dims, num_shuffles)\n",
    "    samples_df['block_path'] = block_path\n",
    "    samples_df['subj'] = subj\n",
    "    samples_df['num_units'] = len(good_clusters)\n",
    "    return samples_df"
   ]
  },
  {
   "cell_type": "code",
   "execution_count": 6,
   "metadata": {
    "ExecuteTime": {
     "end_time": "2019-02-07T22:11:51.201587Z",
     "start_time": "2019-02-07T22:11:50.994957Z"
    }
   },
   "outputs": [],
   "source": [
    "def gen_all_fit_shuffled_AUC_df(num_shuffles, parallel=True, n_jobs=morphs.parallel.N_JOBS):\n",
    "    accuracies, cluster_accuracies = morphs.load.cluster_accuracies()\n",
    "    good_recs = morphs.data.accuracies.good_recs(cluster_accuracies)\n",
    "    if parallel:\n",
    "        all_samples = Parallel(n_jobs=n_jobs)(delayed(gen_fit_shuffled_AUC_df)(block_path, num_shuffles) for block_path in good_recs)\n",
    "    else:\n",
    "        all_samples = [gen_fit_shuffled_AUC_df(block_path, num_shuffles)\n",
    "                       for block_path in good_recs]\n",
    "    return pd.concat(all_samples, ignore_index=True)"
   ]
  },
  {
   "cell_type": "code",
   "execution_count": 7,
   "metadata": {
    "ExecuteTime": {
     "end_time": "2019-02-07T22:11:52.941113Z",
     "start_time": "2019-02-07T22:11:51.206871Z"
    }
   },
   "outputs": [],
   "source": [
    "accuracies, cluster_accuracies = morphs.load.cluster_accuracies()\n",
    "good_recs = morphs.data.accuracies.good_recs(cluster_accuracies)"
   ]
  },
  {
   "cell_type": "code",
   "execution_count": 8,
   "metadata": {
    "ExecuteTime": {
     "end_time": "2019-02-07T22:11:52.980556Z",
     "start_time": "2019-02-07T22:11:52.945816Z"
    }
   },
   "outputs": [],
   "source": [
    "np.random.seed(314)\n",
    "block_path = np.random.choice(morphs.data.accuracies.good_recs(cluster_accuracies))\n",
    "subj = morphs.data.parse.bird_id(block_path)\n",
    "good_clusters = morphs.data.accuracies.good_clusters(cluster_accuracies[block_path])"
   ]
  },
  {
   "cell_type": "code",
   "execution_count": 9,
   "metadata": {
    "ExecuteTime": {
     "end_time": "2019-02-07T22:13:08.613438Z",
     "start_time": "2019-02-07T22:11:52.984912Z"
    }
   },
   "outputs": [],
   "source": [
    "num_shuffles = 4\n",
    "samples_df = gen_fit_shuffled_AUC_df(block_path, num_shuffles)"
   ]
  },
  {
   "cell_type": "code",
   "execution_count": 10,
   "metadata": {
    "ExecuteTime": {
     "end_time": "2019-02-07T22:13:08.839500Z",
     "start_time": "2019-02-07T22:13:08.617996Z"
    }
   },
   "outputs": [
    {
     "name": "stderr",
     "output_type": "stream",
     "text": [
      "/usr/local/anaconda/envs/morphs/lib/python2.7/site-packages/scipy/stats/stats.py:1713: FutureWarning: Using a non-tuple sequence for multidimensional indexing is deprecated; use `arr[tuple(seq)]` instead of `arr[seq]`. In the future this will be interpreted as an array index, `arr[np.array(seq)]`, which will result either in an error or a different result.\n",
      "  return np.add.reduce(sorted[indexer] * weights, axis=axis) / sumval\n"
     ]
    },
    {
     "data": {
      "image/png": "[encoded data removed]",
      "text/plain": [
       "<Figure size 432x288 with 1 Axes>"
      ]
     },
     "metadata": {
      "needs_background": "light"
     },
     "output_type": "display_data"
    }
   ],
   "source": [
    "ax = sns.barplot(x='shuffled', y='AUC', data=samples_df)"
   ]
  },
  {
   "cell_type": "code",
   "execution_count": 11,
   "metadata": {
    "ExecuteTime": {
     "end_time": "2019-02-07T22:13:09.055284Z",
     "start_time": "2019-02-07T22:13:08.843820Z"
    }
   },
   "outputs": [
    {
     "data": {
      "image/png": "[encoded data removed]",
      "text/plain": [
       "<Figure size 432x288 with 1 Axes>"
      ]
     },
     "metadata": {
      "needs_background": "light"
     },
     "output_type": "display_data"
    }
   ],
   "source": [
    "for shuffled, shuffled_group in samples_df.groupby('shuffled'):\n",
    "    plt.hist(shuffled_group['AUC'].values, alpha=.5, density=True)"
   ]
  },
  {
   "cell_type": "code",
   "execution_count": 12,
   "metadata": {
    "ExecuteTime": {
     "end_time": "2019-02-07T22:13:09.274142Z",
     "start_time": "2019-02-07T22:13:09.059711Z"
    }
   },
   "outputs": [
    {
     "data": {
      "image/png": "[encoded data removed]",
      "text/plain": [
       "<Figure size 432x288 with 1 Axes>"
      ]
     },
     "metadata": {
      "needs_background": "light"
     },
     "output_type": "display_data"
    }
   ],
   "source": [
    "fig = plt.figure()\n",
    "ax = plt.gca()\n",
    "for shuffled, shuffled_group in samples_df.groupby('shuffled'):\n",
    "    morphs.plot.cumulative_distribution(shuffled_group['AUC'].values, scaled=True, label='shuffled' if shuffled else 'unshuffled')\n",
    "ax.set_ylim(0, 1)\n",
    "ax.set_xlim(.5, 1)\n",
    "ax.set_ylabel('Cumulative Distribution')\n",
    "ax.set_xlabel('AUC')\n",
    "ax.legend(loc='lower right');"
   ]
  },
  {
   "cell_type": "code",
   "execution_count": 13,
   "metadata": {
    "ExecuteTime": {
     "end_time": "2019-02-07T22:25:31.926595Z",
     "start_time": "2019-02-07T22:13:09.278490Z"
    }
   },
   "outputs": [],
   "source": [
    "all_samples_df = gen_all_fit_shuffled_AUC_df(num_shuffles)"
   ]
  },
  {
   "cell_type": "code",
   "execution_count": 14,
   "metadata": {
    "ExecuteTime": {
     "end_time": "2019-02-07T22:25:32.230867Z",
     "start_time": "2019-02-07T22:25:31.949885Z"
    }
   },
   "outputs": [
    {
     "data": {
      "image/png": "[encoded data removed]",
      "text/plain": [
       "<Figure size 432x288 with 1 Axes>"
      ]
     },
     "metadata": {
      "needs_background": "light"
     },
     "output_type": "display_data"
    }
   ],
   "source": [
    "for shuffled, shuffled_group in all_samples_df.groupby('shuffled'):\n",
    "    plt.hist(shuffled_group['AUC'].values, alpha=.5, density=True)"
   ]
  },
  {
   "cell_type": "code",
   "execution_count": 15,
   "metadata": {
    "ExecuteTime": {
     "end_time": "2019-02-07T22:25:32.451782Z",
     "start_time": "2019-02-07T22:25:32.235259Z"
    }
   },
   "outputs": [
    {
     "data": {
      "image/png": "[encoded data removed]",
      "text/plain": [
       "<Figure size 432x288 with 1 Axes>"
      ]
     },
     "metadata": {
      "needs_background": "light"
     },
     "output_type": "display_data"
    }
   ],
   "source": [
    "fig = plt.figure()\n",
    "ax = plt.gca()\n",
    "for shuffled, shuffled_group in all_samples_df.groupby('shuffled'):\n",
    "    morphs.plot.cumulative_distribution(shuffled_group['AUC'].values, scaled=True, label='shuffled' if shuffled else 'unshuffled')\n",
    "ax.set_ylim(0, 1)\n",
    "ax.set_xlim(.5, 1)\n",
    "ax.set_ylabel('Cumulative Distribution')\n",
    "ax.set_xlabel('AUC')\n",
    "ax.legend(loc='lower right');"
   ]
  },
  {
   "cell_type": "code",
   "execution_count": 16,
   "metadata": {
    "ExecuteTime": {
     "end_time": "2019-02-07T22:25:32.488776Z",
     "start_time": "2019-02-07T22:25:32.455963Z"
    }
   },
   "outputs": [],
   "source": [
    "all_samples_df.loc[all_samples_df['subj'] == 'st1107', 'subj'] = 'B1107'"
   ]
  },
  {
   "cell_type": "code",
   "execution_count": 17,
   "metadata": {
    "ExecuteTime": {
     "end_time": "2019-02-07T22:25:32.690645Z",
     "start_time": "2019-02-07T22:25:32.494101Z"
    }
   },
   "outputs": [],
   "source": [
    "all_samples_df['behave_subj'] = [subj in morphs.subj.BEHAVE_SUBJS for subj in all_samples_df['subj']]"
   ]
  },
  {
   "cell_type": "code",
   "execution_count": 18,
   "metadata": {
    "ExecuteTime": {
     "end_time": "2019-02-07T22:25:32.945225Z",
     "start_time": "2019-02-07T22:25:32.694833Z"
    }
   },
   "outputs": [],
   "source": [
    "psychometric_params = morphs.load.psychometric_params()"
   ]
  },
  {
   "cell_type": "code",
   "execution_count": 19,
   "metadata": {
    "ExecuteTime": {
     "end_time": "2019-02-07T22:25:33.282300Z",
     "start_time": "2019-02-07T22:25:32.950208Z"
    }
   },
   "outputs": [],
   "source": [
    "all_samples_df['behave_dim'] = False\n",
    "for subj, subj_group in all_samples_df.groupby('subj'):\n",
    "    if subj in morphs.subj.BEHAVE_SUBJS:\n",
    "        for morph_dim, dim_group in subj_group.groupby('morph_dim'):\n",
    "            if morph_dim in psychometric_params[subj]:\n",
    "                all_samples_df.loc[dim_group.index, 'behave_dim'] = True"
   ]
  },
  {
   "cell_type": "code",
   "execution_count": 20,
   "metadata": {
    "ExecuteTime": {
     "end_time": "2019-02-07T22:25:33.352749Z",
     "start_time": "2019-02-07T22:25:33.285624Z"
    }
   },
   "outputs": [],
   "source": [
    "all_samples_df['legend'] = 'error'\n",
    "all_samples_df.loc[~all_samples_df['behave_subj'], 'legend'] = 'Naive'\n",
    "all_samples_df.loc[all_samples_df['behave_subj'] & all_samples_df['behave_dim'], 'legend'] = 'Relevant Dimensions'\n",
    "all_samples_df.loc[all_samples_df['behave_subj'] & ~all_samples_df['behave_dim'], 'legend'] = 'Irrelevant Dimensions'"
   ]
  },
  {
   "cell_type": "code",
   "execution_count": 21,
   "metadata": {
    "ExecuteTime": {
     "end_time": "2019-02-07T22:25:34.031336Z",
     "start_time": "2019-02-07T22:25:33.356478Z"
    }
   },
   "outputs": [
    {
     "data": {
      "image/png": "[encoded data removed]",
      "text/plain": [
       "<Figure size 432x288 with 1 Axes>"
      ]
     },
     "metadata": {
      "needs_background": "light"
     },
     "output_type": "display_data"
    }
   ],
   "source": [
    "ax = sns.barplot(x='legend', y='AUC', hue='shuffled', data=all_samples_df)"
   ]
  },
  {
   "cell_type": "code",
   "execution_count": 22,
   "metadata": {
    "ExecuteTime": {
     "end_time": "2019-02-07T22:25:34.708906Z",
     "start_time": "2019-02-07T22:25:34.034630Z"
    }
   },
   "outputs": [
    {
     "data": {
      "image/png": "[encoded data removed]",
      "text/plain": [
       "<Figure size 710.125x216 with 3 Axes>"
      ]
     },
     "metadata": {
      "needs_background": "light"
     },
     "output_type": "display_data"
    }
   ],
   "source": [
    "g = sns.FacetGrid(all_samples_df, col='legend', hue='shuffled')\n",
    "g = g.map(morphs.plot.cumulative_distribution, 'AUC', scaled=True, label='shuffled' if shuffled else 'unshuffled')\n",
    "g = g.set_titles('{col_name}')\n",
    "g = g.add_legend()"
   ]
  },
  {
   "cell_type": "code",
   "execution_count": 23,
   "metadata": {
    "ExecuteTime": {
     "end_time": "2019-02-07T22:25:34.763168Z",
     "start_time": "2019-02-07T22:25:34.712152Z"
    }
   },
   "outputs": [
    {
     "name": "stdout",
     "output_type": "stream",
     "text": [
      "Irrelevant Dimensions\n",
      "(0.1085526315789471, 0.11385530388259993)\n",
      "Naive\n",
      "(0.07083333333333364, 0.0424174394730456)\n",
      "Relevant Dimensions\n",
      "(0.1217105263157904, 0.0014853334629743365)\n"
     ]
    }
   ],
   "source": [
    "for legend, legend_group in all_samples_df.groupby('legend'):\n",
    "    print(legend)\n",
    "    lggb = legend_group.groupby('shuffled')\n",
    "    print(sp.stats.mstats.ks_twosamp(lggb.get_group(True)['AUC'], lggb.get_group(False)['AUC']))"
   ]
  },
  {
   "cell_type": "code",
   "execution_count": 24,
   "metadata": {
    "ExecuteTime": {
     "end_time": "2019-02-07T22:25:35.387610Z",
     "start_time": "2019-02-07T22:25:34.767664Z"
    }
   },
   "outputs": [
    {
     "data": {
      "image/png": "[encoded data removed]",
      "text/plain": [
       "<Figure size 494.125x216 with 2 Axes>"
      ]
     },
     "metadata": {
      "needs_background": "light"
     },
     "output_type": "display_data"
    }
   ],
   "source": [
    "g = sns.FacetGrid(all_samples_df, col='behave_subj', hue='shuffled')\n",
    "g = g.map(morphs.plot.cumulative_distribution, 'AUC', scaled=True, label='shuffled' if shuffled else 'unshuffled')\n",
    "# g = g.set_titles('{col_name}')\n",
    "g = g.add_legend()"
   ]
  },
  {
   "cell_type": "code",
   "execution_count": 25,
   "metadata": {
    "ExecuteTime": {
     "end_time": "2019-02-07T22:25:35.407922Z",
     "start_time": "2019-02-07T22:25:35.391929Z"
    }
   },
   "outputs": [
    {
     "name": "stdout",
     "output_type": "stream",
     "text": [
      "False\n",
      "(0.07083333333333364, 0.0424174394730456)\n",
      "True\n",
      "(0.11732456140350803, 8.69797456025223e-05)\n"
     ]
    }
   ],
   "source": [
    "for behave, behave_group in all_samples_df.groupby('behave_subj'):\n",
    "    print(behave)\n",
    "    bggb = behave_group.groupby('shuffled')\n",
    "    print(sp.stats.mstats.ks_twosamp(bggb.get_group(True)['AUC'], bggb.get_group(False)['AUC']))"
   ]
  },
  {
   "cell_type": "markdown",
   "metadata": {},
   "source": [
    "These results show that there is significant noise correlations in the populations we recorded from the trained birds, but barely/not (if you do a bonferroni correction) significant noise correlations in naive birds.\n",
    "\n",
    "In this analysis we measure noise correlations by the Area under the ROC curve (AUC or A') for a logistic regression trained on half the data as a non-parametric measure of cluster separability.\n",
    "\n",
    "We find that when we shuffle the units and destroy the simultaneity, we actually have improved performance in the populations recorded from trained birds.\n",
    "\n",
    "We also note that there is a pretty strong ceiling effect in our measurement of performance on the population, and perhaps we may get a better signal if we used smaller subsets of the neurons."
   ]
  }
 ],
 "metadata": {
  "kernelspec": {
   "display_name": "Python (morphs)",
   "language": "python",
   "name": "morphs"
  },
  "language_info": {
   "codemirror_mode": {
    "name": "ipython",
    "version": 2
   },
   "file_extension": ".py",
   "mimetype": "text/x-python",
   "name": "python",
   "nbconvert_exporter": "python",
   "pygments_lexer": "ipython2",
   "version": "2.7.15"
  }
 },
 "nbformat": 4,
 "nbformat_minor": 2
}
