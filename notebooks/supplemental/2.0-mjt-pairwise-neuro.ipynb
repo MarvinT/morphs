{
 "cells": [
  {
   "cell_type": "code",
   "execution_count": 1,
   "metadata": {
    "ExecuteTime": {
     "end_time": "2019-03-14T03:06:53.493858Z",
     "start_time": "2019-03-14T03:06:52.588637Z"
    }
   },
   "outputs": [
    {
     "name": "stderr",
     "output_type": "stream",
     "text": [
      "/usr/local/anaconda/envs/morphs/lib/python2.7/site-packages/sklearn/cross_validation.py:41: DeprecationWarning: This module was deprecated in version 0.18 in favor of the model_selection module into which all the refactored classes and functions are moved. Also note that the interface of the new CV iterators are different from that of this module. This module will be removed in 0.20.\n",
      "  \"This module will be removed in 0.20.\", DeprecationWarning)\n"
     ]
    }
   ],
   "source": [
    "import morphs\n",
    "%matplotlib inline\n",
    "import seaborn as sns\n",
    "import pandas as pd\n",
    "import numpy as np\n",
    "import itertools"
   ]
  },
  {
   "cell_type": "code",
   "execution_count": 2,
   "metadata": {
    "ExecuteTime": {
     "end_time": "2019-03-14T03:06:53.546194Z",
     "start_time": "2019-03-14T03:06:53.499688Z"
    }
   },
   "outputs": [],
   "source": [
    "# try to find nice block used below, else use last one found\n",
    "for block_path in morphs.paths.blocks():\n",
    "    if 'Pen01_Lft_AP2500_ML750__Site04_Z2300__B1101_cat_P01_S04_3' in block_path:\n",
    "        break"
   ]
  },
  {
   "cell_type": "code",
   "execution_count": 3,
   "metadata": {
    "ExecuteTime": {
     "end_time": "2019-03-14T03:09:29.513829Z",
     "start_time": "2019-03-14T03:06:53.551866Z"
    }
   },
   "outputs": [],
   "source": [
    "pair_df = morphs.data.pairwise.calculate_pop_pair_df(block_path)"
   ]
  },
  {
   "cell_type": "code",
   "execution_count": 4,
   "metadata": {
    "ExecuteTime": {
     "end_time": "2019-03-14T03:09:29.536177Z",
     "start_time": "2019-03-14T03:09:29.519522Z"
    }
   },
   "outputs": [
    {
     "data": {
      "text/plain": [
       "morph_dim                    category\n",
       "greater_morph_pos               uint8\n",
       "lesser_morph_pos                uint8\n",
       "morph_dist                      uint8\n",
       "spect_euclidean_dist          float64\n",
       "neural_euclidian_dist         float64\n",
       "red_neural_euclidian_dist     float64\n",
       "block_path                   category\n",
       "dtype: object"
      ]
     },
     "execution_count": 4,
     "metadata": {},
     "output_type": "execute_result"
    }
   ],
   "source": [
    "pair_df.dtypes"
   ]
  },
  {
   "cell_type": "code",
   "execution_count": 5,
   "metadata": {
    "ExecuteTime": {
     "end_time": "2019-03-14T03:09:29.704143Z",
     "start_time": "2019-03-14T03:09:29.539862Z"
    }
   },
   "outputs": [
    {
     "data": {
      "text/plain": [
       "Index                        0.000069\n",
       "morph_dim                    0.457642\n",
       "greater_morph_pos            0.455475\n",
       "lesser_morph_pos             0.455475\n",
       "morph_dist                   0.455475\n",
       "spect_euclidean_dist         3.643799\n",
       "neural_euclidian_dist        3.643799\n",
       "red_neural_euclidian_dist    3.643799\n",
       "block_path                   0.455685\n",
       "dtype: float64"
      ]
     },
     "execution_count": 5,
     "metadata": {},
     "output_type": "execute_result"
    }
   ],
   "source": [
    "pair_df.memory_usage(deep=True)/1024/1024"
   ]
  },
  {
   "cell_type": "code",
   "execution_count": 6,
   "metadata": {
    "ExecuteTime": {
     "end_time": "2019-03-14T03:09:32.744774Z",
     "start_time": "2019-03-14T03:09:29.707727Z"
    }
   },
   "outputs": [],
   "source": [
    "pair_df = morphs.load.pop_pair_df()"
   ]
  },
  {
   "cell_type": "code",
   "execution_count": 7,
   "metadata": {
    "ExecuteTime": {
     "end_time": "2019-03-14T03:09:32.760152Z",
     "start_time": "2019-03-14T03:09:32.747701Z"
    },
    "scrolled": true
   },
   "outputs": [
    {
     "data": {
      "text/plain": [
       "morph_dim                    category\n",
       "greater_morph_pos               uint8\n",
       "lesser_morph_pos                uint8\n",
       "morph_dist                      uint8\n",
       "spect_euclidean_dist          float64\n",
       "neural_euclidian_dist         float64\n",
       "red_neural_euclidian_dist     float64\n",
       "block_path                     object\n",
       "dtype: object"
      ]
     },
     "execution_count": 7,
     "metadata": {},
     "output_type": "execute_result"
    }
   ],
   "source": [
    "pair_df.dtypes"
   ]
  },
  {
   "cell_type": "code",
   "execution_count": 8,
   "metadata": {
    "ExecuteTime": {
     "end_time": "2019-03-14T03:09:33.984459Z",
     "start_time": "2019-03-14T03:09:32.765555Z"
    }
   },
   "outputs": [
    {
     "data": {
      "text/plain": [
       "Index                           0.000069\n",
       "morph_dim                      15.852353\n",
       "greater_morph_pos              15.850797\n",
       "lesser_morph_pos               15.850797\n",
       "morph_dist                     15.850797\n",
       "spect_euclidean_dist          126.806374\n",
       "neural_euclidian_dist         126.806374\n",
       "red_neural_euclidian_dist     126.806374\n",
       "block_path                   2219.788626\n",
       "dtype: float64"
      ]
     },
     "execution_count": 8,
     "metadata": {},
     "output_type": "execute_result"
    }
   ],
   "source": [
    "pair_df.memory_usage(deep=True)/1024/1024"
   ]
  }
 ],
 "metadata": {
  "kernelspec": {
   "display_name": "Python (morphs)",
   "language": "python",
   "name": "morphs"
  },
  "language_info": {
   "codemirror_mode": {
    "name": "ipython",
    "version": 2
   },
   "file_extension": ".py",
   "mimetype": "text/x-python",
   "name": "python",
   "nbconvert_exporter": "python",
   "pygments_lexer": "ipython2",
   "version": "2.7.15"
  }
 },
 "nbformat": 4,
 "nbformat_minor": 2
}
