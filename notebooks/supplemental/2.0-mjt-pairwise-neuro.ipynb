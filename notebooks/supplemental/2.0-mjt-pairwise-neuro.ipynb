{
 "cells": [
  {
   "cell_type": "code",
   "execution_count": 1,
   "metadata": {
    "ExecuteTime": {
     "end_time": "2019-03-13T21:03:50.397959Z",
     "start_time": "2019-03-13T21:03:49.501911Z"
    }
   },
   "outputs": [
    {
     "name": "stderr",
     "output_type": "stream",
     "text": [
      "/usr/local/anaconda/envs/morphs/lib/python2.7/site-packages/sklearn/cross_validation.py:41: DeprecationWarning: This module was deprecated in version 0.18 in favor of the model_selection module into which all the refactored classes and functions are moved. Also note that the interface of the new CV iterators are different from that of this module. This module will be removed in 0.20.\n",
      "  \"This module will be removed in 0.20.\", DeprecationWarning)\n"
     ]
    }
   ],
   "source": [
    "import morphs\n",
    "%matplotlib inline\n",
    "import seaborn as sns\n",
    "import pandas as pd\n",
    "import numpy as np\n",
    "import itertools"
   ]
  },
  {
   "cell_type": "code",
   "execution_count": 2,
   "metadata": {
    "ExecuteTime": {
     "end_time": "2019-03-13T21:03:51.926414Z",
     "start_time": "2019-03-13T21:03:50.402553Z"
    }
   },
   "outputs": [],
   "source": [
    "accuracies, cluster_accuracies = morphs.load.cluster_accuracies()\n",
    "good_recs = morphs.data.accuracies.good_recs(cluster_accuracies)"
   ]
  },
  {
   "cell_type": "code",
   "execution_count": 3,
   "metadata": {
    "ExecuteTime": {
     "end_time": "2019-03-13T21:03:51.991292Z",
     "start_time": "2019-03-13T21:03:51.931365Z"
    }
   },
   "outputs": [],
   "source": [
    "# try to find nice block used below, else use last one found\n",
    "for block_path in morphs.paths.blocks():\n",
    "    if 'Pen01_Lft_AP2500_ML750__Site04_Z2300__B1101_cat_P01_S04_3' in block_path:\n",
    "        break\n",
    "subj = morphs.data.parse.bird_id(block_path)\n",
    "good_clusters = morphs.data.accuracies.good_clusters(block_path)"
   ]
  },
  {
   "cell_type": "code",
   "execution_count": 4,
   "metadata": {
    "ExecuteTime": {
     "end_time": "2019-03-13T21:03:58.971875Z",
     "start_time": "2019-03-13T21:03:51.997273Z"
    }
   },
   "outputs": [],
   "source": [
    "spikes = morphs.load.ephys_data(block_path, good_clusters=good_clusters)"
   ]
  },
  {
   "cell_type": "code",
   "execution_count": null,
   "metadata": {
    "ExecuteTime": {
     "start_time": "2019-03-13T21:03:48.050Z"
    }
   },
   "outputs": [],
   "source": [
    "X, labels = morphs.spikes.create_neural_rep(spikes, max_id_len=5)\n",
    "X_red = morphs.data.neurometric.logistic_dim_reduction(X, labels)\n",
    "# psychometric_params = morphs.load.psychometric_params()"
   ]
  },
  {
   "cell_type": "code",
   "execution_count": null,
   "metadata": {
    "ExecuteTime": {
     "start_time": "2019-03-13T21:03:48.053Z"
    }
   },
   "outputs": [],
   "source": [
    "spects = morphs.load.morph_spectrograms()"
   ]
  },
  {
   "cell_type": "code",
   "execution_count": null,
   "metadata": {
    "ExecuteTime": {
     "start_time": "2019-03-13T21:03:48.055Z"
    }
   },
   "outputs": [],
   "source": [
    "spect_reps = {'%s%s%03d' % (l, g, i): spects[l][g][i][:,:,0] for l in spects for g in spects[l] for i in spects[l][g]}"
   ]
  },
  {
   "cell_type": "code",
   "execution_count": null,
   "metadata": {
    "ExecuteTime": {
     "start_time": "2019-03-13T21:03:48.058Z"
    }
   },
   "outputs": [],
   "source": [
    "def parse_morph_dim(df, morph_dim='morph_dim', lesser_dim='lesser_dim', greater_dim='greater_dim'):\n",
    "    df[lesser_dim] = df[morph_dim].str[0]\n",
    "    df[greater_dim] = df[morph_dim].str[1]"
   ]
  },
  {
   "cell_type": "code",
   "execution_count": null,
   "metadata": {
    "ExecuteTime": {
     "start_time": "2019-03-13T21:03:48.061Z"
    }
   },
   "outputs": [],
   "source": [
    "label_df = pd.DataFrame(data={'stim_id':labels})\n",
    "morphs.data.parse.stim_id(label_df)"
   ]
  },
  {
   "cell_type": "code",
   "execution_count": null,
   "metadata": {
    "ExecuteTime": {
     "start_time": "2019-03-13T21:03:48.063Z"
    }
   },
   "outputs": [],
   "source": [
    "df_list = []\n",
    "for morph_dim, group in label_df.groupby('morph_dim'):\n",
    "    df_list.append(pd.DataFrame.from_records([(morph_dim, i1, i2) for i1, i2 in itertools.combinations(group.index.values, 2)], \n",
    "                                             columns=('morph_dim', 'lesser_index', 'greater_index')))\n",
    "pair_df = pd.concat(df_list, ignore_index=True)\n",
    "parse_morph_dim(pair_df)"
   ]
  },
  {
   "cell_type": "code",
   "execution_count": null,
   "metadata": {
    "ExecuteTime": {
     "start_time": "2019-03-13T21:03:48.066Z"
    }
   },
   "outputs": [],
   "source": [
    "for index in ['greater', 'lesser']:\n",
    "    pair_df[index + '_morph_pos'] = label_df.loc[pair_df[index + '_index'].values, 'morph_pos'].values"
   ]
  },
  {
   "cell_type": "code",
   "execution_count": null,
   "metadata": {
    "ExecuteTime": {
     "start_time": "2019-03-13T21:03:48.069Z"
    }
   },
   "outputs": [],
   "source": [
    "pair_df['morph_dist'] = pair_df['greater_morph_pos'] - pair_df['lesser_morph_pos']"
   ]
  },
  {
   "cell_type": "code",
   "execution_count": null,
   "metadata": {
    "ExecuteTime": {
     "start_time": "2019-03-13T21:03:48.071Z"
    }
   },
   "outputs": [],
   "source": [
    "pair_df['spect_euclidean_dist'] = (pair_df['morph_dim'].str.cat(pair_df['greater_morph_pos'].map(lambda x: '%03d' % (x))).map(spect_reps) - \n",
    "                                           pair_df['morph_dim'].str.cat(pair_df['lesser_morph_pos'].map(lambda x: '%03d' % (x))).map(spect_reps)).apply(np.linalg.norm)"
   ]
  },
  {
   "cell_type": "code",
   "execution_count": null,
   "metadata": {
    "ExecuteTime": {
     "start_time": "2019-03-13T21:03:48.076Z"
    }
   },
   "outputs": [],
   "source": [
    "def blocked_norm(arr, block_size=2000, out=None):\n",
    "    if out is None:\n",
    "        ret = np.empty(arr.shape[0])\n",
    "    else:\n",
    "        ret = out\n",
    "    for i in range(0, arr.shape[0], block_size):\n",
    "        u = min(i + block_size, arr.shape[0])\n",
    "        ret[i:u] = np.linalg.norm(arr[i:u], axis=1)\n",
    "    return ret"
   ]
  },
  {
   "cell_type": "code",
   "execution_count": null,
   "metadata": {
    "ExecuteTime": {
     "start_time": "2019-03-13T21:03:48.078Z"
    }
   },
   "outputs": [],
   "source": [
    "def test_blocked_norm():\n",
    "    a = np.random.rand(1000000,100)\n",
    "    assert np.allclose(np.linalg.norm(a, axis=1), blocked_norm(a))\n",
    "test_blocked_norm()"
   ]
  },
  {
   "cell_type": "code",
   "execution_count": null,
   "metadata": {
    "ExecuteTime": {
     "start_time": "2019-03-13T21:03:48.081Z"
    }
   },
   "outputs": [],
   "source": [
    "pair_df['neural_euclidian_dist'] = blocked_norm(X[pair_df['greater_index'].values, :] - X[pair_df['lesser_index'].values, :])"
   ]
  },
  {
   "cell_type": "code",
   "execution_count": null,
   "metadata": {
    "ExecuteTime": {
     "start_time": "2019-03-13T21:03:48.084Z"
    }
   },
   "outputs": [],
   "source": [
    "pair_df['red_neural_euclidian_dist'] = blocked_norm(X_red[pair_df['greater_index'].values, :] - X_red[pair_df['lesser_index'].values, :])"
   ]
  },
  {
   "cell_type": "code",
   "execution_count": null,
   "metadata": {
    "ExecuteTime": {
     "start_time": "2019-03-13T21:03:48.087Z"
    }
   },
   "outputs": [],
   "source": [
    "for col in ['lesser_index', 'greater_index', 'lesser_dim', 'greater_dim']:\n",
    "    del pair_df[col]"
   ]
  },
  {
   "cell_type": "code",
   "execution_count": null,
   "metadata": {
    "ExecuteTime": {
     "start_time": "2019-03-13T21:03:48.089Z"
    }
   },
   "outputs": [],
   "source": [
    "for col in ['greater_morph_pos', 'lesser_morph_pos', 'morph_dist']:\n",
    "    pair_df[col] = pair_df[col].astype('uint8')"
   ]
  },
  {
   "cell_type": "code",
   "execution_count": null,
   "metadata": {
    "ExecuteTime": {
     "start_time": "2019-03-13T21:03:48.092Z"
    }
   },
   "outputs": [],
   "source": [
    "pair_df['block_path'] = block_path"
   ]
  },
  {
   "cell_type": "code",
   "execution_count": null,
   "metadata": {
    "ExecuteTime": {
     "start_time": "2019-03-13T21:03:48.094Z"
    }
   },
   "outputs": [],
   "source": [
    "pair_df.memory_usage(deep=True)/1024/1024"
   ]
  },
  {
   "cell_type": "code",
   "execution_count": null,
   "metadata": {
    "ExecuteTime": {
     "start_time": "2019-03-13T21:03:48.097Z"
    }
   },
   "outputs": [],
   "source": [
    "for col in ['morph_dim', 'block_path']:\n",
    "    pair_df[col] = pair_df[col].astype('category')\n",
    "pair_df['block_path'].cat.set_categories(morphs.data.accuracies.good_recs(cluster_accuracies));"
   ]
  },
  {
   "cell_type": "code",
   "execution_count": null,
   "metadata": {
    "ExecuteTime": {
     "start_time": "2019-03-13T21:03:48.101Z"
    },
    "scrolled": true
   },
   "outputs": [],
   "source": [
    "pair_df.dtypes"
   ]
  },
  {
   "cell_type": "code",
   "execution_count": null,
   "metadata": {
    "ExecuteTime": {
     "start_time": "2019-03-13T21:03:48.103Z"
    }
   },
   "outputs": [],
   "source": [
    "pair_df.memory_usage(deep=True)/1024/1024"
   ]
  }
 ],
 "metadata": {
  "kernelspec": {
   "display_name": "Python (morphs)",
   "language": "python",
   "name": "morphs"
  },
  "language_info": {
   "codemirror_mode": {
    "name": "ipython",
    "version": 2
   },
   "file_extension": ".py",
   "mimetype": "text/x-python",
   "name": "python",
   "nbconvert_exporter": "python",
   "pygments_lexer": "ipython2",
   "version": "2.7.15"
  }
 },
 "nbformat": 4,
 "nbformat_minor": 2
}
