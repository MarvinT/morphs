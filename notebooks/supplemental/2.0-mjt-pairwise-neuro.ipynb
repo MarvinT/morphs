{
 "cells": [
  {
   "cell_type": "code",
   "execution_count": 1,
   "metadata": {
    "ExecuteTime": {
     "end_time": "2019-03-13T18:31:02.716704Z",
     "start_time": "2019-03-13T18:31:01.796715Z"
    }
   },
   "outputs": [
    {
     "name": "stderr",
     "output_type": "stream",
     "text": [
      "/usr/local/anaconda/envs/morphs/lib/python2.7/site-packages/sklearn/cross_validation.py:41: DeprecationWarning: This module was deprecated in version 0.18 in favor of the model_selection module into which all the refactored classes and functions are moved. Also note that the interface of the new CV iterators are different from that of this module. This module will be removed in 0.20.\n",
      "  \"This module will be removed in 0.20.\", DeprecationWarning)\n"
     ]
    }
   ],
   "source": [
    "import morphs\n",
    "%matplotlib inline\n",
    "import seaborn as sns\n",
    "import pandas as pd\n",
    "import numpy as np\n",
    "import itertools"
   ]
  },
  {
   "cell_type": "code",
   "execution_count": 2,
   "metadata": {
    "ExecuteTime": {
     "end_time": "2019-03-13T18:31:04.246296Z",
     "start_time": "2019-03-13T18:31:02.721624Z"
    }
   },
   "outputs": [],
   "source": [
    "accuracies, cluster_accuracies = morphs.load.cluster_accuracies()\n",
    "good_recs = morphs.data.accuracies.good_recs()"
   ]
  },
  {
   "cell_type": "code",
   "execution_count": 3,
   "metadata": {
    "ExecuteTime": {
     "end_time": "2019-03-13T18:31:04.481342Z",
     "start_time": "2019-03-13T18:31:04.252276Z"
    }
   },
   "outputs": [],
   "source": [
    "# try to find nice block used below, else use last one found\n",
    "for block_path in morphs.paths.blocks():\n",
    "    if 'Pen01_Lft_AP2500_ML750__Site04_Z2300__B1101_cat_P01_S04_3' in block_path:\n",
    "        break\n",
    "subj = morphs.data.parse.bird_id(block_path)\n",
    "good_clusters = morphs.data.accuracies.good_clusters(block_path)"
   ]
  },
  {
   "cell_type": "code",
   "execution_count": 4,
   "metadata": {
    "ExecuteTime": {
     "end_time": "2019-03-13T18:31:30.397126Z",
     "start_time": "2019-03-13T18:31:04.487484Z"
    }
   },
   "outputs": [],
   "source": [
    "spikes = morphs.load.ephys_data(block_path, good_clusters=good_clusters)"
   ]
  },
  {
   "cell_type": "code",
   "execution_count": 5,
   "metadata": {
    "ExecuteTime": {
     "end_time": "2019-03-13T18:33:21.888634Z",
     "start_time": "2019-03-13T18:31:30.402435Z"
    }
   },
   "outputs": [],
   "source": [
    "X, labels = morphs.spikes.create_neural_rep(spikes, max_id_len=5)\n",
    "X_red = morphs.data.neurometric.logistic_dim_reduction(X, labels)\n",
    "# psychometric_params = morphs.load.psychometric_params()"
   ]
  },
  {
   "cell_type": "code",
   "execution_count": 6,
   "metadata": {
    "ExecuteTime": {
     "end_time": "2019-03-13T18:33:23.661815Z",
     "start_time": "2019-03-13T18:33:21.894672Z"
    }
   },
   "outputs": [],
   "source": [
    "spects = morphs.load.morph_spectrograms()"
   ]
  },
  {
   "cell_type": "code",
   "execution_count": 7,
   "metadata": {
    "ExecuteTime": {
     "end_time": "2019-03-13T18:33:23.763990Z",
     "start_time": "2019-03-13T18:33:23.666574Z"
    }
   },
   "outputs": [],
   "source": [
    "spect_reps = {'%s%s%03d' % (l, g, i): spects[l][g][i][:,:,0] for l in spects for g in spects[l] for i in spects[l][g]}"
   ]
  },
  {
   "cell_type": "code",
   "execution_count": 8,
   "metadata": {
    "ExecuteTime": {
     "end_time": "2019-03-13T18:33:23.926701Z",
     "start_time": "2019-03-13T18:33:23.769434Z"
    }
   },
   "outputs": [],
   "source": [
    "def parse_morph_dim(df, morph_dim='morph_dim', lesser_dim='lesser_dim', greater_dim='greater_dim'):\n",
    "    df[lesser_dim] = df[morph_dim].str[0]\n",
    "    df[greater_dim] = df[morph_dim].str[1]"
   ]
  },
  {
   "cell_type": "code",
   "execution_count": 9,
   "metadata": {
    "ExecuteTime": {
     "end_time": "2019-03-13T18:33:24.200330Z",
     "start_time": "2019-03-13T18:33:23.932583Z"
    }
   },
   "outputs": [],
   "source": [
    "label_df = pd.DataFrame(data={'stim_id':labels})\n",
    "morphs.data.parse.stim_id(label_df)"
   ]
  },
  {
   "cell_type": "code",
   "execution_count": 10,
   "metadata": {
    "ExecuteTime": {
     "end_time": "2019-03-13T18:33:29.413506Z",
     "start_time": "2019-03-13T18:33:24.205439Z"
    }
   },
   "outputs": [],
   "source": [
    "df_list = []\n",
    "for morph_dim, group in label_df.groupby('morph_dim'):\n",
    "    df_list.append(pd.DataFrame.from_records([(morph_dim, i1, i2) for i1, i2 in itertools.combinations(group.index.values, 2)], \n",
    "                                             columns=('morph_dim', 'lesser_index', 'greater_index')))\n",
    "pair_df = pd.concat(df_list, ignore_index=True)\n",
    "parse_morph_dim(pair_df)"
   ]
  },
  {
   "cell_type": "code",
   "execution_count": 11,
   "metadata": {
    "ExecuteTime": {
     "end_time": "2019-03-13T18:33:29.776296Z",
     "start_time": "2019-03-13T18:33:29.418683Z"
    }
   },
   "outputs": [],
   "source": [
    "for index in ['greater', 'lesser']:\n",
    "    pair_df[index + '_morph_pos'] = label_df.loc[pair_df[index + '_index'].values, 'morph_pos'].values"
   ]
  },
  {
   "cell_type": "code",
   "execution_count": 12,
   "metadata": {
    "ExecuteTime": {
     "end_time": "2019-03-13T18:33:29.810042Z",
     "start_time": "2019-03-13T18:33:29.781575Z"
    }
   },
   "outputs": [],
   "source": [
    "pair_df['morph_dist'] = pair_df['greater_morph_pos'] - pair_df['lesser_morph_pos']"
   ]
  },
  {
   "cell_type": "code",
   "execution_count": 13,
   "metadata": {
    "ExecuteTime": {
     "end_time": "2019-03-13T18:34:09.491563Z",
     "start_time": "2019-03-13T18:33:29.816382Z"
    }
   },
   "outputs": [],
   "source": [
    "pair_df['spect_euclidean_dist'] = (pair_df['morph_dim'].str.cat(pair_df['greater_morph_pos'].map(lambda x: '%03d' % (x))).map(spect_reps) - \n",
    "                                           pair_df['morph_dim'].str.cat(pair_df['lesser_morph_pos'].map(lambda x: '%03d' % (x))).map(spect_reps)).apply(np.linalg.norm)"
   ]
  },
  {
   "cell_type": "code",
   "execution_count": 14,
   "metadata": {
    "ExecuteTime": {
     "end_time": "2019-03-13T18:34:44.546100Z",
     "start_time": "2019-03-13T18:34:09.527798Z"
    }
   },
   "outputs": [],
   "source": [
    "pair_df['neural_euclidian_dist'] = np.linalg.norm(X[pair_df['greater_index'].values, :] - X[pair_df['lesser_index'].values, :], axis=1)"
   ]
  },
  {
   "cell_type": "code",
   "execution_count": 15,
   "metadata": {
    "ExecuteTime": {
     "end_time": "2019-03-13T18:34:44.679728Z",
     "start_time": "2019-03-13T18:34:44.551401Z"
    }
   },
   "outputs": [],
   "source": [
    "pair_df['red_neural_euclidian_dist'] = np.linalg.norm(X_red[pair_df['greater_index'].values, :] - X_red[pair_df['lesser_index'].values, :], axis=1)"
   ]
  },
  {
   "cell_type": "code",
   "execution_count": 16,
   "metadata": {
    "ExecuteTime": {
     "end_time": "2019-03-13T18:34:44.793217Z",
     "start_time": "2019-03-13T18:34:44.684633Z"
    }
   },
   "outputs": [],
   "source": [
    "for col in ['lesser_index', 'greater_index', 'lesser_dim', 'greater_dim']:\n",
    "    del pair_df[col]"
   ]
  },
  {
   "cell_type": "code",
   "execution_count": 17,
   "metadata": {
    "ExecuteTime": {
     "end_time": "2019-03-13T18:34:44.983270Z",
     "start_time": "2019-03-13T18:34:44.797972Z"
    }
   },
   "outputs": [],
   "source": [
    "for col in ['greater_morph_pos', 'lesser_morph_pos', 'morph_dist']:\n",
    "    pair_df[col] = pair_df[col].astype('uint8')"
   ]
  },
  {
   "cell_type": "code",
   "execution_count": 18,
   "metadata": {
    "ExecuteTime": {
     "end_time": "2019-03-13T18:34:45.189866Z",
     "start_time": "2019-03-13T18:34:44.988108Z"
    }
   },
   "outputs": [],
   "source": [
    "pair_df['block_path'] = block_path"
   ]
  },
  {
   "cell_type": "code",
   "execution_count": 19,
   "metadata": {
    "ExecuteTime": {
     "end_time": "2019-03-13T18:34:45.446780Z",
     "start_time": "2019-03-13T18:34:45.195356Z"
    }
   },
   "outputs": [
    {
     "data": {
      "text/plain": [
       "Index                         0.000069\n",
       "morph_dim                    30.972290\n",
       "greater_morph_pos             0.455475\n",
       "lesser_morph_pos              0.455475\n",
       "morph_dist                    0.455475\n",
       "spect_euclidean_dist          3.643799\n",
       "neural_euclidian_dist         3.643799\n",
       "red_neural_euclidian_dist     3.643799\n",
       "block_path                   63.766479\n",
       "dtype: float64"
      ]
     },
     "execution_count": 19,
     "metadata": {},
     "output_type": "execute_result"
    }
   ],
   "source": [
    "pair_df.memory_usage(deep=True)/1024/1024"
   ]
  },
  {
   "cell_type": "code",
   "execution_count": 20,
   "metadata": {
    "ExecuteTime": {
     "end_time": "2019-03-13T18:34:45.788196Z",
     "start_time": "2019-03-13T18:34:45.452214Z"
    }
   },
   "outputs": [],
   "source": [
    "for col in ['morph_dim', 'block_path']:\n",
    "    pair_df[col] = pair_df[col].astype('category')\n",
    "pair_df['block_path'].cat.set_categories(morphs.data.accuracies.good_recs());"
   ]
  },
  {
   "cell_type": "code",
   "execution_count": 21,
   "metadata": {
    "ExecuteTime": {
     "end_time": "2019-03-13T18:34:45.908704Z",
     "start_time": "2019-03-13T18:34:45.793069Z"
    },
    "scrolled": true
   },
   "outputs": [
    {
     "data": {
      "text/plain": [
       "morph_dim                    category\n",
       "greater_morph_pos               uint8\n",
       "lesser_morph_pos                uint8\n",
       "morph_dist                      uint8\n",
       "spect_euclidean_dist          float64\n",
       "neural_euclidian_dist         float64\n",
       "red_neural_euclidian_dist     float64\n",
       "block_path                   category\n",
       "dtype: object"
      ]
     },
     "execution_count": 21,
     "metadata": {},
     "output_type": "execute_result"
    }
   ],
   "source": [
    "pair_df.dtypes"
   ]
  },
  {
   "cell_type": "code",
   "execution_count": 22,
   "metadata": {
    "ExecuteTime": {
     "end_time": "2019-03-13T18:34:46.123067Z",
     "start_time": "2019-03-13T18:34:45.913467Z"
    }
   },
   "outputs": [
    {
     "data": {
      "text/plain": [
       "Index                        0.000069\n",
       "morph_dim                    0.457642\n",
       "greater_morph_pos            0.455475\n",
       "lesser_morph_pos             0.455475\n",
       "morph_dist                   0.455475\n",
       "spect_euclidean_dist         3.643799\n",
       "neural_euclidian_dist        3.643799\n",
       "red_neural_euclidian_dist    3.643799\n",
       "block_path                   0.455685\n",
       "dtype: float64"
      ]
     },
     "execution_count": 22,
     "metadata": {},
     "output_type": "execute_result"
    }
   ],
   "source": [
    "pair_df.memory_usage(deep=True)/1024/1024"
   ]
  }
 ],
 "metadata": {
  "kernelspec": {
   "display_name": "Python (morphs)",
   "language": "python",
   "name": "morphs"
  },
  "language_info": {
   "codemirror_mode": {
    "name": "ipython",
    "version": 2
   },
   "file_extension": ".py",
   "mimetype": "text/x-python",
   "name": "python",
   "nbconvert_exporter": "python",
   "pygments_lexer": "ipython2",
   "version": "2.7.15"
  }
 },
 "nbformat": 4,
 "nbformat_minor": 2
}
