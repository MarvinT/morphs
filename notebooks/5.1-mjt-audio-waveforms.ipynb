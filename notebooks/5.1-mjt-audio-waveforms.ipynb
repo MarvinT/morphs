{
 "cells": [
  {
   "cell_type": "code",
   "execution_count": 1,
   "metadata": {
    "ExecuteTime": {
     "end_time": "2019-05-14T18:49:17.318101Z",
     "start_time": "2019-05-14T18:49:15.830390Z"
    }
   },
   "outputs": [
    {
     "name": "stderr",
     "output_type": "stream",
     "text": [
      "/usr/local/anaconda/envs/morphs36/lib/python3.6/site-packages/matplotlib/__init__.py:886: MatplotlibDeprecationWarning: \n",
      "examples.directory is deprecated; in the future, examples will be found relative to the 'datapath' directory.\n",
      "  \"found relative to the 'datapath' directory.\".format(key))\n",
      "/usr/local/anaconda/envs/morphs36/lib/python3.6/site-packages/sklearn/cross_validation.py:41: DeprecationWarning: This module was deprecated in version 0.18 in favor of the model_selection module into which all the refactored classes and functions are moved. Also note that the interface of the new CV iterators are different from that of this module. This module will be removed in 0.20.\n",
      "  \"This module will be removed in 0.20.\", DeprecationWarning)\n"
     ]
    }
   ],
   "source": [
    "%matplotlib inline\n",
    "# import librosa\n",
    "import matplotlib.pyplot as plt\n",
    "import numpy as np\n",
    "import morphs"
   ]
  },
  {
   "cell_type": "code",
   "execution_count": 2,
   "metadata": {
    "ExecuteTime": {
     "end_time": "2019-05-14T18:49:17.323857Z",
     "start_time": "2019-05-14T18:49:17.320601Z"
    }
   },
   "outputs": [],
   "source": [
    "motifs = [\"ac001\", \"bc001\", \"af128\", \"ah128\"]"
   ]
  },
  {
   "cell_type": "code",
   "execution_count": 3,
   "metadata": {
    "ExecuteTime": {
     "end_time": "2019-05-14T18:49:20.591175Z",
     "start_time": "2019-05-14T18:49:17.326654Z"
    }
   },
   "outputs": [
    {
     "data": {
      "image/png": "[encoded data removed]",
      "text/plain": [
       "<Figure size 1152x108 with 4 Axes>"
      ]
     },
     "metadata": {
      "needs_background": "light"
     },
     "output_type": "display_data"
    }
   ],
   "source": [
    "f, axes = plt.subplots(1, len(motifs), figsize=(len(motifs) * 4, 1.5), squeeze=True)\n",
    "ax_map = {m: ax for m, ax in zip(motifs, axes)}\n",
    "for motif in ax_map:\n",
    "    ax = ax_map[motif]\n",
    "    data, sr = morphs.load.wav(motif)\n",
    "    t = np.arange(len(data)) / sr\n",
    "    t = np.concatenate(([-0.2, 0], t, [0.4, 0.6]))\n",
    "    data = np.concatenate(([0, 0], data, [0, 0]))\n",
    "    ax.plot(t, data, color='k', linewidth=1)\n",
    "    ax.set_xlim(-0.2, 0.6)\n",
    "    ax.set_xticklabels([])\n",
    "    ax.set_ylim(-1, 1)\n",
    "    ax.axvline(0, color=\"k\")\n",
    "    ax.axvline(0.4, color=\"k\")\n",
    "    if motif is not motifs[0]:\n",
    "        ax.set_yticklabels([])\n",
    "axes[0].set_ylabel(\"Sound Pressure\");\n",
    "morphs.plot.savefig(f, \"audio_waveforms\")"
   ]
  }
 ],
 "metadata": {
  "kernelspec": {
   "display_name": "Python3.6 (morphs)",
   "language": "python",
   "name": "py36"
  },
  "language_info": {
   "codemirror_mode": {
    "name": "ipython",
    "version": 3
   },
   "file_extension": ".py",
   "mimetype": "text/x-python",
   "name": "python",
   "nbconvert_exporter": "python",
   "pygments_lexer": "ipython3",
   "version": "3.6.7"
  }
 },
 "nbformat": 4,
 "nbformat_minor": 2
}
