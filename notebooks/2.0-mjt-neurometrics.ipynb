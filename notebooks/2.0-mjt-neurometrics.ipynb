{
 "cells": [
  {
   "cell_type": "code",
   "execution_count": 1,
   "metadata": {
    "ExecuteTime": {
     "end_time": "2018-12-05T01:27:21.500369Z",
     "start_time": "2018-12-05T01:27:20.532068Z"
    }
   },
   "outputs": [
    {
     "name": "stderr",
     "output_type": "stream",
     "text": [
      "/usr/local/anaconda/envs/morphs/lib/python2.7/site-packages/sklearn/cross_validation.py:41: DeprecationWarning: This module was deprecated in version 0.18 in favor of the model_selection module into which all the refactored classes and functions are moved. Also note that the interface of the new CV iterators are different from that of this module. This module will be removed in 0.20.\n",
      "  \"This module will be removed in 0.20.\", DeprecationWarning)\n"
     ]
    }
   ],
   "source": [
    "import morphs\n",
    "%matplotlib inline\n",
    "import seaborn as sns"
   ]
  },
  {
   "cell_type": "code",
   "execution_count": 2,
   "metadata": {
    "ExecuteTime": {
     "end_time": "2018-12-05T01:27:23.001015Z",
     "start_time": "2018-12-05T01:27:21.505688Z"
    }
   },
   "outputs": [],
   "source": [
    "accuracies, cluster_accuracies = morphs.data.load.cluster_accuracies()\n",
    "good_recs = morphs.data.accuracies.good_recs(cluster_accuracies)"
   ]
  },
  {
   "cell_type": "code",
   "execution_count": 3,
   "metadata": {
    "ExecuteTime": {
     "end_time": "2018-12-05T01:27:23.027665Z",
     "start_time": "2018-12-05T01:27:23.006077Z"
    }
   },
   "outputs": [],
   "source": [
    "# try to find nice block used below, else use last one found\n",
    "for block_path in morphs.paths.blocks():\n",
    "    if 'Pen01_Lft_AP2500_ML750__Site04_Z2300__B1101_cat_P01_S04_3' in block_path:\n",
    "        break\n",
    "subj = morphs.data.parse.bird_id(block_path)\n",
    "good_clusters = morphs.data.accuracies.good_clusters(cluster_accuracies[block_path])"
   ]
  },
  {
   "cell_type": "code",
   "execution_count": 4,
   "metadata": {
    "ExecuteTime": {
     "end_time": "2018-12-05T01:34:05.752989Z",
     "start_time": "2018-12-05T01:27:23.032784Z"
    }
   },
   "outputs": [
    {
     "name": "stderr",
     "output_type": "stream",
     "text": [
      "/usr/local/anaconda/envs/morphs/lib/python2.7/site-packages/pandas/core/indexing.py:362: SettingWithCopyWarning: \n",
      "A value is trying to be set on a copy of a slice from a DataFrame.\n",
      "Try using .loc[row_indexer,col_indexer] = value instead\n",
      "\n",
      "See the caveats in the documentation: http://pandas.pydata.org/pandas-docs/stable/indexing.html#indexing-view-versus-copy\n",
      "  self.obj[key] = _infer_fill_value(value)\n",
      "/usr/local/anaconda/envs/morphs/lib/python2.7/site-packages/pandas/core/indexing.py:543: SettingWithCopyWarning: \n",
      "A value is trying to be set on a copy of a slice from a DataFrame.\n",
      "Try using .loc[row_indexer,col_indexer] = value instead\n",
      "\n",
      "See the caveats in the documentation: http://pandas.pydata.org/pandas-docs/stable/indexing.html#indexing-view-versus-copy\n",
      "  self.obj[item] = s\n"
     ]
    }
   ],
   "source": [
    "spikes = morphs.data.load.ephys_data(block_path, good_clusters=good_clusters, shuffle_endpoints=True)"
   ]
  },
  {
   "cell_type": "code",
   "execution_count": null,
   "metadata": {
    "ExecuteTime": {
     "start_time": "2018-12-05T01:27:19.905Z"
    }
   },
   "outputs": [],
   "source": [
    "X, labels = morphs.spikes.create_neural_rep(spikes, max_id_len=5)\n",
    "X_red = morphs.data.neurometric.logistic_dim_reduction(X, labels)\n",
    "psychometric_params = morphs.data.load.psychometric_params()"
   ]
  },
  {
   "cell_type": "code",
   "execution_count": null,
   "metadata": {
    "ExecuteTime": {
     "start_time": "2018-12-05T01:27:19.907Z"
    }
   },
   "outputs": [],
   "source": [
    "behavior_subj = 'B1218'"
   ]
  },
  {
   "cell_type": "code",
   "execution_count": null,
   "metadata": {
    "ExecuteTime": {
     "start_time": "2018-12-05T01:27:19.909Z"
    }
   },
   "outputs": [],
   "source": [
    "sns.set_context(\"talk\")\n",
    "folder = morphs.paths.FIGURES_DIR / 'neurometrics'"
   ]
  },
  {
   "cell_type": "code",
   "execution_count": null,
   "metadata": {
    "ExecuteTime": {
     "start_time": "2018-12-05T01:27:19.910Z"
    },
    "scrolled": false
   },
   "outputs": [],
   "source": [
    "held_out_df, g = morphs.plot.neurometric.held_out(labels, X_red, behavior_subj, psychometric_params)\n",
    "morphs.plot.savefig(g, 'neurometric-sample', folder=folder)"
   ]
  }
 ],
 "metadata": {
  "kernelspec": {
   "display_name": "Python (morphs)",
   "language": "python",
   "name": "morphs"
  },
  "language_info": {
   "codemirror_mode": {
    "name": "ipython",
    "version": 2
   },
   "file_extension": ".py",
   "mimetype": "text/x-python",
   "name": "python",
   "nbconvert_exporter": "python",
   "pygments_lexer": "ipython2",
   "version": "2.7.15"
  }
 },
 "nbformat": 4,
 "nbformat_minor": 2
}
